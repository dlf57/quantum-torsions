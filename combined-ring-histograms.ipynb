{
 "cells": [
  {
   "cell_type": "code",
   "execution_count": 1,
   "id": "067fb3a0-cef9-4809-b7ec-15c233376351",
   "metadata": {},
   "outputs": [],
   "source": [
    "import numpy as np\n",
    "import matplotlib.pyplot as plt\n",
    "import seaborn as sns\n",
    "\n",
    "from scipy.optimize import curve_fit, minimize\n",
    "\n",
    "import warnings\n",
    "warnings.filterwarnings('ignore')\n",
    "\n",
    "%matplotlib inline\n",
    "%config InlineBackend.figure_format = 'retina'"
   ]
  },
  {
   "cell_type": "code",
   "execution_count": 2,
   "id": "6d5d23d6-94a6-462c-836e-39d2272a81be",
   "metadata": {},
   "outputs": [
    {
     "name": "stdout",
     "output_type": "stream",
     "text": [
      "Found 105 torsion patterns\n"
     ]
    }
   ],
   "source": [
    "# read in our version of the SMARTS patterns\n",
    "#  .. to make sure we're comparing the right things to each other\n",
    "our_smarts = []\n",
    "with open('ring_smarts_patterns.txt') as smarts_file:\n",
    "    for line in smarts_file: # index   smarts\n",
    "        index, smarts = line.split()\n",
    "        our_smarts.append(smarts)\n",
    "\n",
    "maxTorsions = len(our_smarts) # e.g. ignore pattern 0\n",
    "print(f\"Found {maxTorsions} torsion patterns\")"
   ]
  },
  {
   "cell_type": "code",
   "execution_count": 3,
   "id": "16b1af37-d60f-4236-8ab0-b916ff6d27c5",
   "metadata": {},
   "outputs": [],
   "source": [
    "# read the ETKDG patterns and fit parameters\n",
    "\n",
    "smarts_list = [None] * maxTorsions\n",
    "# keep the etkdg probabilities in a list for later use\n",
    "etkdg_list = [None] * maxTorsions\n",
    "\n",
    "# read in the torsion patterns\n",
    "etkdg_file = \"etkdg/torsionPreferences_smallRings.in\"\n",
    "with open(etkdg_file) as torsions:\n",
    "    # skip the comments at the top\n",
    "    for _ in range(10):\n",
    "        next(torsions)\n",
    "    pattern = 0\n",
    "    for line in torsions:\n",
    "        if \"//\" in line:\n",
    "            continue\n",
    "        chunk = line.split('\"')[1][0:-2]  # -2 drops the '/n' at the end\n",
    "        smarts = chunk.split()[0]\n",
    "        function = chunk.split()[1:] # parts of the cosine fit\n",
    "        #print(function)\n",
    "        \n",
    "        x = np.linspace(0, 360, 360)\n",
    "        # build up the y potential in a loop\n",
    "        y = np.zeros_like(x)\n",
    "        for m in range(6):\n",
    "            s = float(function[m*2])\n",
    "            V = float(function[m*2+1])\n",
    "            if np.abs(s) < 0.1:\n",
    "                continue\n",
    "            y = y + V*(1 + s*(np.cos((m+1) * np.pi * x / 180.0)))\n",
    "        # now generate the Boltzmann probabilities\n",
    "        e_min = np.min(y)\n",
    "        kT = 0.593 # in kcal/mol\n",
    "        prob = np.exp(-y / kT)\n",
    "\n",
    "        # for debugging\n",
    "        #plt.plot(x, prob)\n",
    "        #plt.title(f\"Pattern {pattern} = {smarts}\")\n",
    "        #plt.savefig(f\"fit-figures/t{pattern}-etkdg.pdf\")\n",
    "        #plt.close()\n",
    "        \n",
    "        smarts_list[pattern] = smarts\n",
    "        etkdg_list[pattern] = (prob / np.max(prob))\n",
    "        pattern += 1"
   ]
  },
  {
   "cell_type": "code",
   "execution_count": 4,
   "id": "5cb7a05d-f4ee-4b21-97f8-eb838454b8f7",
   "metadata": {},
   "outputs": [],
   "source": [
    "# define a function to get the histograms and bins\n",
    "# put together a total histogram from all the subdirectories\n",
    "dirs = ['cod-torsions', 'pqr-torsions', 'zinc-torsions', 'pubchemqc-torsions']\n",
    "\n",
    "def get_binned(torsion, bin_size = 10):\n",
    "    totals = np.full(360, 1.0e-6) # eliminate any zero values\n",
    "    for dir in dirs:\n",
    "        filename = f\"{dir}/t{torsion}-rings-conf.txt\"\n",
    "        try:\n",
    "            with open(filename) as f:\n",
    "                slice = 0\n",
    "                for line in f:\n",
    "                    totals[slice] += float(line.rstrip())\n",
    "                    slice += 1\n",
    "        except FileNotFoundError:\n",
    "            continue\n",
    "\n",
    "    for angle in range(181, 360):\n",
    "        mirror = 360 - angle\n",
    "        sum = (totals[angle] + totals[mirror])\n",
    "        totals[angle] = totals[mirror] = sum\n",
    "        \n",
    "    # bin the probabilities\n",
    "    #  i.e. everything in the bin is averaged\n",
    "    bins = int(len(totals) / bin_size) + 1 # first and last bins are half-sized\n",
    "    binned = np.zeros_like(totals)\n",
    "    left = 0\n",
    "    for bin in range(bins):\n",
    "        width = bin_size\n",
    "        if bin == 0 or (left + width) > len(totals):\n",
    "            width = int(bin_size / 2)\n",
    "        right = left + width\n",
    "\n",
    "        mean = np.mean(totals[left:right])\n",
    "        if mean < 1.0e-6:\n",
    "            mean = 1.0e-6 # avoid log(zero)\n",
    "        binned[left:right] = mean\n",
    "        left = right\n",
    "\n",
    "    # normalize\n",
    "    totals = totals / np.sum(totals)\n",
    "    binned = binned / np.sum(binned)\n",
    "    return totals, binned"
   ]
  },
  {
   "cell_type": "code",
   "execution_count": 5,
   "id": "85036d49-67ed-4dd5-92d2-8d5a91a0112b",
   "metadata": {},
   "outputs": [],
   "source": [
    "# Standard ETKDG fit\n",
    "# ETKDG uses V(1 + s*cos(mx)) for a potential energy\n",
    "def etkdg(x, *args):\n",
    "    count = int(len(args)/2)\n",
    "    s_ = args[0::2]\n",
    "    V_ = args[1::2]\n",
    "    y = np.zeros_like(x)\n",
    "    for m in range(count):\n",
    "        s = s_[m]\n",
    "        V = V_[m]\n",
    "        y = y + V*(1 + s*(np.cos((m+1)*np.pi*x/180.0)))\n",
    "    return y\n",
    "\n",
    "# erase the file\n",
    "fit_name = \"cos-ring-fit.txt\"\n",
    "with open(fit_name, \"w\") as fits:\n",
    "    fits.write(\"// cosine fits\\n\")\n",
    "\n",
    "# r-squared of fit\n",
    "cos_r2 = []\n",
    "etkdg_r2 = []\n",
    "    \n",
    "for torsion in range(1, maxTorsions): \n",
    "    totals, binned = get_binned(torsion)\n",
    "    degrees = np.linspace(0, 360, 360)\n",
    "\n",
    "    # transform from probabilities to energies using Boltzmann statistics\n",
    "    relative_energy = -0.593 * np.log(binned)\n",
    "\n",
    "    # Use 6 terms (12 parameters) to fit using cosines (s, V)\n",
    "    # could use np.ones but we might want to change the initial value\n",
    "    terms = 6\n",
    "    params = np.full(2*terms, 1.0)\n",
    "    val, covariance = curve_fit(etkdg, degrees, relative_energy, p0=params)\n",
    "    \n",
    "    # energies if you want them    #plt.plot(degrees, relative_energy)\n",
    "    #plt.plot(degrees, potential(degrees, *val))\n",
    "    \n",
    "    # plot the fitted probabilities vs. histograms\n",
    "    plt.plot(degrees, binned, label='Binned Counts')\n",
    "    fitted = etkdg(degrees, *val)\n",
    "    prob = np.exp(-fitted / 0.593)\n",
    "    plt.plot(degrees, prob, label='Fit')\n",
    "    \n",
    "    max_height = np.max(binned)\n",
    "    \n",
    "    # compare to ETKDG\n",
    "    # .. caveat that the ETKDG numbering is not identical\n",
    "    current_smarts = our_smarts[torsion]\n",
    "    plt.title(f\"Torsion {torsion}\\n{current_smarts}\")\n",
    "    try:\n",
    "        if current_smarts in smarts_list:\n",
    "            index = smarts_list.index(current_smarts)\n",
    "            plt.plot(degrees, max_height*etkdg_list[index], label='ETKDG Fit')\n",
    "    except (IndexError, TypeError) as e:\n",
    "        print(f\"Missing ETKDG {torsion}\")\n",
    "    \n",
    "    plt.xticks(np.linspace(0, 360, 7))\n",
    "    plt.xlabel(\"Torsion (°)\")\n",
    "    plt.ylabel(\"Probability per 10° Bin\")\n",
    "    plt.xlim(0, 180)\n",
    "    plt.legend()\n",
    "    #plt.show()\n",
    "    plt.savefig(f\"fit-figures/t{torsion}-ring-cos.pdf\")\n",
    "    plt.close()\n",
    "    \n",
    "    # r-squared of fit\n",
    "    cos_r2.append(np.corrcoef(binned, prob)[0, 1]**2)\n",
    "    etkdg_r2.append(np.corrcoef(binned,max_height*etkdg_list[index])[0,1]**2)\n",
    "    \n",
    "    # append the smarts and fits\n",
    "    with open(fit_name, \"a\") as fits:\n",
    "        array = np.array2string(val, precision=3, separator=' ', max_line_width=255)\n",
    "        fits.write(current_smarts + ' ' + array[1:-1] + '\\n')"
   ]
  },
  {
   "cell_type": "code",
   "execution_count": 6,
   "id": "4fae1835-fe61-4fda-9ec7-690dbae55c52",
   "metadata": {},
   "outputs": [],
   "source": [
    "#  .. for some things, V(1 + s*cos())**2 seems to fit better\n",
    "def varpot(x, *args):\n",
    "    count = int(len(args)/2)\n",
    "    s_ = args[0::2]\n",
    "    V_ = args[1::2]\n",
    "    y = np.zeros_like(x)\n",
    "    for m in range(count):\n",
    "        s = s_[m]\n",
    "        V = V_[m]\n",
    "        y = y + V*(1 + s*(np.cos((m+1)*np.pi*x/180.0))**2)\n",
    "    return y\n",
    "\n",
    "# erase the file\n",
    "fit_name = \"cos2-ring-fit.txt\"\n",
    "with open(fit_name, \"w\") as fits:\n",
    "    fits.write(\"// cosine**2 fits\\n\")\n",
    "\n",
    "# r-squared of fit\n",
    "cos2_r2 = []\n",
    "    \n",
    "for torsion in range(1, maxTorsions): \n",
    "    totals, binned = get_binned(torsion)\n",
    "    degrees = np.linspace(0, 360, 360)\n",
    "\n",
    "    # transform from probabilities to energies using Boltzmann statistics\n",
    "    relative_energy = -0.593 * np.log(binned)\n",
    "\n",
    "    # Use 6 terms (12 parameters) to fit using cosines (s, V)\n",
    "    # could use np.ones but we might want to change the initial value\n",
    "    terms = 6\n",
    "    params = np.full(2*terms, 1.0)\n",
    "    val, covariance = curve_fit(varpot, degrees, relative_energy, p0=params, maxfev=100000)\n",
    "    \n",
    "    # energies if you want them    #plt.plot(degrees, relative_energy)\n",
    "    #plt.plot(degrees, potential(degrees, *val))\n",
    "    \n",
    "    # plot the fitted probabilities vs. histograms\n",
    "    plt.plot(degrees, binned, label='Binned Counts')\n",
    "    fitted = varpot(degrees, *val)\n",
    "    prob = np.exp(-fitted / 0.593)\n",
    "    plt.plot(degrees, prob, label='Trig. Fit')\n",
    "    \n",
    "    max_height = np.max(binned)\n",
    "    \n",
    "    # compare to ETKDG\n",
    "    # .. caveat that the ETKDG numbering is not identical\n",
    "    current_smarts = our_smarts[torsion]\n",
    "    plt.title(f\"Torsion {torsion}\\n{current_smarts}\")\n",
    "    try:\n",
    "        if current_smarts in smarts_list:\n",
    "            index = smarts_list.index(current_smarts)\n",
    "            plt.plot(degrees, max_height*etkdg_list[index], label='ETKDG Fit')\n",
    "    except (IndexError, TypeError) as e:\n",
    "        print(f\"Missing ETKDG {torsion}\")\n",
    "    \n",
    "    plt.xticks(np.linspace(0, 360, 7))\n",
    "    plt.xlabel(\"Torsion (°)\")\n",
    "    plt.ylabel(\"Probability per 10° Bin\")\n",
    "    plt.xlim(0, 180)\n",
    "    plt.legend()\n",
    "    #plt.show()\n",
    "    plt.savefig(f\"fit-figures/t{torsion}-ring-cos2.pdf\")\n",
    "    plt.close()\n",
    "    \n",
    "    # r-squared of fit\n",
    "    cos2_r2.append(np.corrcoef(binned, prob)[0, 1]**2)\n",
    "    \n",
    "    # append the smarts and fits\n",
    "    with open(fit_name, \"a\") as fits:\n",
    "        array = np.array2string(val, precision=3, separator=' ', max_line_width=255)\n",
    "        fits.write(current_smarts + ' ' + array[1:-1] + '\\n')"
   ]
  },
  {
   "cell_type": "code",
   "execution_count": 7,
   "id": "21807683-2f85-439d-bc36-69cdf74cbefa",
   "metadata": {},
   "outputs": [
    {
     "name": "stdout",
     "output_type": "stream",
     "text": [
      "Fit problem 7\n",
      "Fit problem 8\n",
      "Fit problem 9\n",
      "Fit problem 10\n",
      "Fit problem 56\n",
      "Fit problem 60\n",
      "Fit problem 95\n"
     ]
    }
   ],
   "source": [
    "# Compare with fitting a sum of X gaussians\n",
    "# f(x) = a * exp( -\\frac{(x - b)^2}{2c^2} )\n",
    "def vargauss(x, *args):\n",
    "    count = int(len(args)/3)\n",
    "    # need center, width and scaling\n",
    "    scale = args[0::3]\n",
    "    center = args[1::3]\n",
    "    width = args[2::3]\n",
    "    y = np.zeros_like(x)\n",
    "    for m in range(count):\n",
    "        s = scale[m]\n",
    "        c = center[m]\n",
    "        w = width[m]\n",
    "        y = y + s*np.exp(-(((x - c))/w)**2)\n",
    "    return y\n",
    "\n",
    "# we'll use scipy find_peaks to locate the centers of the Gaussians\n",
    "from scipy.signal import find_peaks\n",
    "\n",
    "# erase the file\n",
    "fit_name = \"gauss-ring-fit.txt\"\n",
    "with open(fit_name, \"w\") as fits:\n",
    "    fits.write(\"// gaussian fits\\n\")\n",
    "\n",
    "gauss_r2 = []\n",
    "    \n",
    "for torsion in range(1, maxTorsions): \n",
    "    degrees = np.linspace(0, 360, 360)\n",
    "    totals, binned = get_binned(torsion)\n",
    "    \n",
    "    # inital parameters from fit_peaks\n",
    "    temp = np.concatenate(([0],binned))\n",
    "    peaks, _ = find_peaks(temp, distance=10, prominence=0.001)\n",
    "    if binned[-1] > 0.001:\n",
    "        peaks = np.concatenate((peaks, [360]))\n",
    "\n",
    "    num_peaks = len(peaks)\n",
    "    params = np.full(num_peaks*3, 10.0)\n",
    "    for i in range(num_peaks):\n",
    "        params[i*3] = 0.05 / float(num_peaks) # scale\n",
    "        params[i*3 + 1] = peaks[i]\n",
    "    \n",
    "    # sometimes we try/except to go to smaller sets\n",
    "    try:\n",
    "        val, covariance = curve_fit(vargauss, degrees, binned, p0=params, maxfev=10000)\n",
    "    except RuntimeError:\n",
    "        #print(f\"Trying 4 peaks {torsion}\")\n",
    "        \n",
    "        # try fewer, smaller initial peaks\n",
    "        num_peaks = 4\n",
    "        params = np.full(num_peaks*3, 10.0)\n",
    "        for i in range(num_peaks):\n",
    "            params[i*3] = 0.05 / float(num_peaks) # scale\n",
    "            params[i*3 + 1] = i * (360./float(num_peaks - 1)) # center\n",
    "\n",
    "        try:\n",
    "            val, covariance = curve_fit(vargauss, degrees, binned, p0=params, maxfev=100000)\n",
    "        except RuntimeError:\n",
    "            #print(f\"Trying 3 peaks {torsion}\")\n",
    "\n",
    "            num_peaks = 3\n",
    "            params = np.full(num_peaks*3, 15.0)\n",
    "            for i in range(num_peaks):\n",
    "                params[i*3] = 0.05 / float(num_peaks) # scale\n",
    "                params[i*3 + 1] = i * (360./float(num_peaks - 1)) # center\n",
    "\n",
    "            try:\n",
    "                val, covariance = curve_fit(vargauss, degrees, binned, p0=params, maxfev=250000)\n",
    "            except:\n",
    "                print(f\"Fit problem {torsion}\")\n",
    "                val = params # need to do manual fitting\n",
    "    \n",
    "    # probabilities vs. histograms\n",
    "    plt.plot(degrees, binned, label='Binned Counts')\n",
    "    fitted = vargauss(degrees, *val)\n",
    "    plt.plot(degrees, fitted, label='Gaussian Fit')\n",
    "        \n",
    "    # compare to ETKDG\n",
    "    # .. caveat that the ETKDG numbering is not identical\n",
    "    current_smarts = our_smarts[torsion]\n",
    "    plt.title(f\"Torsion {torsion}\\n{current_smarts}\")\n",
    "    try:\n",
    "        if current_smarts in smarts_list:\n",
    "            index = smarts_list.index(current_smarts)\n",
    "            \n",
    "            max_height = np.max(binned)\n",
    "            plt.plot(degrees, max_height*etkdg_list[index], label='ETKDG Fit')\n",
    "    except (IndexError, TypeError) as e:\n",
    "        print(f\"Missing ETKDG {torsion}\")\n",
    "    \n",
    "    plt.xticks(np.linspace(0, 360, 7))\n",
    "    plt.xlabel(\"Torsion (°)\")\n",
    "    plt.ylabel(\"Probability per 10° Bin\")\n",
    "    plt.xlim(0, 180)\n",
    "    plt.legend()\n",
    "    plt.savefig(f\"fit-figures/t{torsion}-ring-gauss.pdf\")\n",
    "    plt.close()\n",
    "    \n",
    "    # r-squared of fit\n",
    "    gauss_r2.append(np.corrcoef(binned, fitted)[0, 1]**2)\n",
    "    \n",
    "    # append the smarts and fits\n",
    "    with open(fit_name, \"a\") as fits:\n",
    "        array = np.array2string(val, precision=3, separator=' ', max_line_width=255)\n",
    "        fits.write(current_smarts + ' ' + array[1:-1] + '\\n')"
   ]
  },
  {
   "cell_type": "code",
   "execution_count": 8,
   "id": "68de3575-63e7-420f-85c2-81f870f20d78",
   "metadata": {},
   "outputs": [],
   "source": [
    "# Use this for the histograms\n",
    "\n",
    "sns.set_context(\"notebook\", font_scale=1.5)"
   ]
  },
  {
   "cell_type": "code",
   "execution_count": 9,
   "id": "6ff252a5-dff1-4fac-8ce8-1cb66849975c",
   "metadata": {},
   "outputs": [
    {
     "name": "stdout",
     "output_type": "stream",
     "text": [
      "ETKDG v1 0.031318573317907716\n"
     ]
    },
    {
     "data": {
      "image/png": "[encoded data removed]",
      "text/plain": [
       "<Figure size 432x288 with 1 Axes>"
      ]
     },
     "metadata": {
      "image/png": {
       "height": 299,
       "width": 400
      },
      "needs_background": "light"
     },
     "output_type": "display_data"
    }
   ],
   "source": [
    "print(\"ETKDG v1\", np.median(etkdg_r2))\n",
    "sns.histplot(etkdg_r2, bins=20)\n",
    "plt.title(\"ETKDG Fits\")\n",
    "plt.xlabel(\"$R^2$\")\n",
    "plt.savefig(f\"figures/etkdg-ring-histogram.pdf\")\n",
    "plt.show()"
   ]
  },
  {
   "cell_type": "code",
   "execution_count": 10,
   "id": "46520434-d8e5-4c72-ad6a-38536d16acf6",
   "metadata": {},
   "outputs": [
    {
     "name": "stdout",
     "output_type": "stream",
     "text": [
      "Our cosine fits 0.7326172400082845\n"
     ]
    },
    {
     "data": {
      "image/png": "[encoded data removed]",
      "text/plain": [
       "<Figure size 432x288 with 1 Axes>"
      ]
     },
     "metadata": {
      "image/png": {
       "height": 299,
       "width": 411
      },
      "needs_background": "light"
     },
     "output_type": "display_data"
    }
   ],
   "source": [
    "print(\"Our cosine fits\", np.median(cos_r2))\n",
    "a = sns.histplot(cos_r2, bins=20)\n",
    "plt.title(\"Cosine Fit\")\n",
    "plt.xlabel(\"$R^2$\")\n",
    "plt.savefig(f\"figures/cosine-ring-histogram.pdf\")\n",
    "plt.show()"
   ]
  },
  {
   "cell_type": "code",
   "execution_count": 11,
   "id": "8e6fcef4-cb97-481f-8e8d-756ade4a7745",
   "metadata": {},
   "outputs": [
    {
     "name": "stdout",
     "output_type": "stream",
     "text": [
      "Cos^2 fit 0.27353140711794377\n"
     ]
    },
    {
     "data": {
      "image/png": "[encoded data removed]",
      "text/plain": [
       "<Figure size 432x288 with 1 Axes>"
      ]
     },
     "metadata": {
      "image/png": {
       "height": 300,
       "width": 416
      },
      "needs_background": "light"
     },
     "output_type": "display_data"
    }
   ],
   "source": [
    "print(\"Cos^2 fit\", np.median(cos2_r2))\n",
    "sns.histplot(cos2_r2, bins=20)\n",
    "plt.title(\"Cosine$^2$ Fits\")\n",
    "plt.xlabel(\"$R^2$\")\n",
    "plt.show()"
   ]
  },
  {
   "cell_type": "code",
   "execution_count": 12,
   "id": "de3bfa9e-3556-42e3-940a-11cd1a0feb7b",
   "metadata": {},
   "outputs": [
    {
     "name": "stdout",
     "output_type": "stream",
     "text": [
      "Gaussian 0.9112322047067335\n"
     ]
    },
    {
     "data": {
      "image/png": "[encoded data removed]",
      "text/plain": [
       "<Figure size 432x288 with 1 Axes>"
      ]
     },
     "metadata": {
      "image/png": {
       "height": 299,
       "width": 410
      },
      "needs_background": "light"
     },
     "output_type": "display_data"
    }
   ],
   "source": [
    "print(\"Gaussian\", np.median(gauss_r2))\n",
    "sns.histplot(gauss_r2, bins=20)\n",
    "plt.title(\"Gaussian Fits\")\n",
    "plt.xlabel(\"$R^2$\")\n",
    "plt.savefig(f\"figures/gaussian-ring-histogram.pdf\")\n",
    "plt.show()"
   ]
  }
 ],
 "metadata": {
  "kernelspec": {
   "display_name": "Python 3 (ipykernel)",
   "language": "python",
   "name": "python3"
  },
  "language_info": {
   "codemirror_mode": {
    "name": "ipython",
    "version": 3
   },
   "file_extension": ".py",
   "mimetype": "text/x-python",
   "name": "python",
   "nbconvert_exporter": "python",
   "pygments_lexer": "ipython3",
   "version": "3.9.7"
  }
 },
 "nbformat": 4,
 "nbformat_minor": 5
}
