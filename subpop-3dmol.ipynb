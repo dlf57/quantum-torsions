{
 "cells": [
  {
   "cell_type": "code",
   "execution_count": 1,
   "id": "dbc21000",
   "metadata": {},
   "outputs": [],
   "source": [
    "import py3Dmol\n",
    "import glob\n",
    "import rdkit\n",
    "from rdkit import Chem\n",
    "from rdkit.Chem import AllChem\n",
    "from rdkit.Chem import Draw\n",
    "from rdkit.Chem.Draw import IPythonConsole"
   ]
  },
  {
   "cell_type": "code",
   "execution_count": 2,
   "id": "08df0063",
   "metadata": {
    "scrolled": false
   },
   "outputs": [
    {
     "name": "stdout",
     "output_type": "stream",
     "text": [
      "Torsion Pattern 10 [C:1][CH2:2]!@;-[O:3][CX4:4]\n",
      "010442429\n"
     ]
    },
    {
     "data": {
      "application/3dmoljs_load.v0": "<div id=\"3dmolviewer_16333673971628397\"  style=\"position: relative; width: 640px; height: 480px\">\n        <p id=\"3dmolwarning_16333673971628397\" style=\"background-color:#ffcccc;color:black\">You appear to be running in JupyterLab (or JavaScript failed to load for some other reason).  You need to install the 3dmol extension: <br>\n        <tt>jupyter labextension install jupyterlab_3dmol</tt></p>\n        </div>\n<script>\n\nvar loadScriptAsync = function(uri){\n  return new Promise((resolve, reject) => {\n    var tag = document.createElement('script');\n    tag.src = uri;\n    tag.async = true;\n    tag.onload = () => {\n      resolve();\n    };\n  var firstScriptTag = document.getElementsByTagName('script')[0];\n  firstScriptTag.parentNode.insertBefore(tag, firstScriptTag);\n});\n};\n\nif(typeof $3Dmolpromise === 'undefined') {\n$3Dmolpromise = null;\n  $3Dmolpromise = loadScriptAsync('https://3dmol.org/build/3Dmol.js');\n}\n\nvar viewer_16333673971628397 = null;\nvar warn = document.getElementById(\"3dmolwarning_16333673971628397\");\nif(warn) {\n    warn.parentNode.removeChild(warn);\n}\n$3Dmolpromise.then(function() {\nviewer_16333673971628397 = $3Dmol.createViewer($(\"#3dmolviewer_16333673971628397\"),{backgroundColor:\"white\"});\nviewer_16333673971628397.zoomTo();\n\tviewer_16333673971628397.addModel(\"-42.26205387\\n OpenBabel09032116403D\\n\\n 27 27  0  0  0  0  0  0  0  0999 V2000\\n    2.5029    2.2936    0.3042 C   0  0  0  0  0  0  0  0  0  0  0  0\\n    1.0183    2.1581   -0.0122 C   0  0  0  0  0  0  0  0  0  0  0  0\\n    0.7285    2.8640   -0.7948 H   0  0  0  0  0  0  0  0  0  0  0  0\\n    0.4227    2.3632    0.8890 H   0  0  0  0  0  0  0  0  0  0  0  0\\n    0.6516    0.8902   -0.5340 O   0  0  0  0  0  0  0  0  0  0  0  0\\n    0.6314   -0.1669    0.3793 C   0  0  0  0  0  0  0  0  0  0  0  0\\n    1.8880   -0.7121    0.6419 O   0  0  0  0  0  0  0  0  0  0  0  0\\n    2.5967   -1.2174   -0.4849 C   0  0  0  0  0  0  0  0  0  0  0  0\\n    4.0684   -1.3206   -0.1184 C   0  0  0  0  0  0  0  0  0  0  0  0\\n    4.6249   -1.7440   -0.9499 H   0  0  0  0  0  0  0  0  0  0  0  0\\n    4.4693   -0.3385    0.1163 H   0  0  0  0  0  0  0  0  0  0  0  0\\n    4.1859   -1.9590    0.7527 H   0  0  0  0  0  0  0  0  0  0  0  0\\n    2.2070   -2.2098   -0.7514 H   0  0  0  0  0  0  0  0  0  0  0  0\\n    2.4553   -0.5415   -1.3365 H   0  0  0  0  0  0  0  0  0  0  0  0\\n   -0.3707   -1.2107   -0.1765 C   0  0  0  0  0  0  0  0  0  0  0  0\\n   -1.7312   -0.6331   -0.1670 C   0  0  0  0  0  0  0  0  0  0  0  0\\n   -2.4363   -0.5842    0.9685 O   0  0  0  0  0  0  0  0  0  0  0  0\\n   -2.4990   -0.0247   -1.1316 C   0  0  0  0  0  0  0  0  0  0  0  0\\n   -3.6439    0.3625   -0.5254 N   0  0  0  0  0  0  0  0  0  0  0  0\\n   -3.6217    0.0476    0.6805 N   0  0  0  0  0  0  0  0  0  0  0  0\\n   -2.3046    0.1480   -2.1673 H   0  0  0  0  0  0  0  0  0  0  0  0\\n   -0.3272   -2.0969    0.4574 H   0  0  0  0  0  0  0  0  0  0  0  0\\n   -0.0918   -1.4570   -1.2000 H   0  0  0  0  0  0  0  0  0  0  0  0\\n    0.2825    0.1786    1.3675 H   0  0  0  0  0  0  0  0  0  0  0  0\\n    2.7938    1.5765    1.0677 H   0  0  0  0  0  0  0  0  0  0  0  0\\n    2.7040    3.2987    0.6653 H   0  0  0  0  0  0  0  0  0  0  0  0\\n    3.0945    2.1150   -0.5904 H   0  0  0  0  0  0  0  0  0  0  0  0\\n  1 26  1  0  0  0  0\\n  1 25  1  0  0  0  0\\n  2  1  1  0  0  0  0\\n  2  4  1  0  0  0  0\\n  3  2  1  0  0  0  0\\n  5  2  1  0  0  0  0\\n  5  6  1  0  0  0  0\\n  6  7  1  0  0  0  0\\n  6 24  1  0  0  0  0\\n  8  9  1  0  0  0  0\\n  8  7  1  0  0  0  0\\n  9 11  1  0  0  0  0\\n  9 12  1  0  0  0  0\\n 10  9  1  0  0  0  0\\n 13  8  1  0  0  0  0\\n 14  8  1  0  0  0  0\\n 15 16  1  0  0  0  0\\n 15  6  1  0  0  0  0\\n 15 22  1  0  0  0  0\\n 16 17  1  0  0  0  0\\n 18 19  1  0  0  0  0\\n 18 16  2  0  0  0  0\\n 19 20  2  0  0  0  0\\n 20 17  1  0  0  0  0\\n 21 18  1  0  0  0  0\\n 23 15  1  0  0  0  0\\n 27  1  1  0  0  0  0\\nM  END\\n$$$$\\n\",\"sdf\");\n\tviewer_16333673971628397.setStyle({\"stick\": {}});\n\tviewer_16333673971628397.zoomTo();\nviewer_16333673971628397.render();\n});\n</script>",
      "text/html": [
       "<div id=\"3dmolviewer_16333673971628397\"  style=\"position: relative; width: 640px; height: 480px\">\n",
       "        <p id=\"3dmolwarning_16333673971628397\" style=\"background-color:#ffcccc;color:black\">You appear to be running in JupyterLab (or JavaScript failed to load for some other reason).  You need to install the 3dmol extension: <br>\n",
       "        <tt>jupyter labextension install jupyterlab_3dmol</tt></p>\n",
       "        </div>\n",
       "<script>\n",
       "\n",
       "var loadScriptAsync = function(uri){\n",
       "  return new Promise((resolve, reject) => {\n",
       "    var tag = document.createElement('script');\n",
       "    tag.src = uri;\n",
       "    tag.async = true;\n",
       "    tag.onload = () => {\n",
       "      resolve();\n",
       "    };\n",
       "  var firstScriptTag = document.getElementsByTagName('script')[0];\n",
       "  firstScriptTag.parentNode.insertBefore(tag, firstScriptTag);\n",
       "});\n",
       "};\n",
       "\n",
       "if(typeof $3Dmolpromise === 'undefined') {\n",
       "$3Dmolpromise = null;\n",
       "  $3Dmolpromise = loadScriptAsync('https://3dmol.org/build/3Dmol.js');\n",
       "}\n",
       "\n",
       "var viewer_16333673971628397 = null;\n",
       "var warn = document.getElementById(\"3dmolwarning_16333673971628397\");\n",
       "if(warn) {\n",
       "    warn.parentNode.removeChild(warn);\n",
       "}\n",
       "$3Dmolpromise.then(function() {\n",
       "viewer_16333673971628397 = $3Dmol.createViewer($(\"#3dmolviewer_16333673971628397\"),{backgroundColor:\"white\"});\n",
       "viewer_16333673971628397.zoomTo();\n",
       "\tviewer_16333673971628397.addModel(\"-42.26205387\\n OpenBabel09032116403D\\n\\n 27 27  0  0  0  0  0  0  0  0999 V2000\\n    2.5029    2.2936    0.3042 C   0  0  0  0  0  0  0  0  0  0  0  0\\n    1.0183    2.1581   -0.0122 C   0  0  0  0  0  0  0  0  0  0  0  0\\n    0.7285    2.8640   -0.7948 H   0  0  0  0  0  0  0  0  0  0  0  0\\n    0.4227    2.3632    0.8890 H   0  0  0  0  0  0  0  0  0  0  0  0\\n    0.6516    0.8902   -0.5340 O   0  0  0  0  0  0  0  0  0  0  0  0\\n    0.6314   -0.1669    0.3793 C   0  0  0  0  0  0  0  0  0  0  0  0\\n    1.8880   -0.7121    0.6419 O   0  0  0  0  0  0  0  0  0  0  0  0\\n    2.5967   -1.2174   -0.4849 C   0  0  0  0  0  0  0  0  0  0  0  0\\n    4.0684   -1.3206   -0.1184 C   0  0  0  0  0  0  0  0  0  0  0  0\\n    4.6249   -1.7440   -0.9499 H   0  0  0  0  0  0  0  0  0  0  0  0\\n    4.4693   -0.3385    0.1163 H   0  0  0  0  0  0  0  0  0  0  0  0\\n    4.1859   -1.9590    0.7527 H   0  0  0  0  0  0  0  0  0  0  0  0\\n    2.2070   -2.2098   -0.7514 H   0  0  0  0  0  0  0  0  0  0  0  0\\n    2.4553   -0.5415   -1.3365 H   0  0  0  0  0  0  0  0  0  0  0  0\\n   -0.3707   -1.2107   -0.1765 C   0  0  0  0  0  0  0  0  0  0  0  0\\n   -1.7312   -0.6331   -0.1670 C   0  0  0  0  0  0  0  0  0  0  0  0\\n   -2.4363   -0.5842    0.9685 O   0  0  0  0  0  0  0  0  0  0  0  0\\n   -2.4990   -0.0247   -1.1316 C   0  0  0  0  0  0  0  0  0  0  0  0\\n   -3.6439    0.3625   -0.5254 N   0  0  0  0  0  0  0  0  0  0  0  0\\n   -3.6217    0.0476    0.6805 N   0  0  0  0  0  0  0  0  0  0  0  0\\n   -2.3046    0.1480   -2.1673 H   0  0  0  0  0  0  0  0  0  0  0  0\\n   -0.3272   -2.0969    0.4574 H   0  0  0  0  0  0  0  0  0  0  0  0\\n   -0.0918   -1.4570   -1.2000 H   0  0  0  0  0  0  0  0  0  0  0  0\\n    0.2825    0.1786    1.3675 H   0  0  0  0  0  0  0  0  0  0  0  0\\n    2.7938    1.5765    1.0677 H   0  0  0  0  0  0  0  0  0  0  0  0\\n    2.7040    3.2987    0.6653 H   0  0  0  0  0  0  0  0  0  0  0  0\\n    3.0945    2.1150   -0.5904 H   0  0  0  0  0  0  0  0  0  0  0  0\\n  1 26  1  0  0  0  0\\n  1 25  1  0  0  0  0\\n  2  1  1  0  0  0  0\\n  2  4  1  0  0  0  0\\n  3  2  1  0  0  0  0\\n  5  2  1  0  0  0  0\\n  5  6  1  0  0  0  0\\n  6  7  1  0  0  0  0\\n  6 24  1  0  0  0  0\\n  8  9  1  0  0  0  0\\n  8  7  1  0  0  0  0\\n  9 11  1  0  0  0  0\\n  9 12  1  0  0  0  0\\n 10  9  1  0  0  0  0\\n 13  8  1  0  0  0  0\\n 14  8  1  0  0  0  0\\n 15 16  1  0  0  0  0\\n 15  6  1  0  0  0  0\\n 15 22  1  0  0  0  0\\n 16 17  1  0  0  0  0\\n 18 19  1  0  0  0  0\\n 18 16  2  0  0  0  0\\n 19 20  2  0  0  0  0\\n 20 17  1  0  0  0  0\\n 21 18  1  0  0  0  0\\n 23 15  1  0  0  0  0\\n 27  1  1  0  0  0  0\\nM  END\\n$$$$\\n\",\"sdf\");\n",
       "\tviewer_16333673971628397.setStyle({\"stick\": {}});\n",
       "\tviewer_16333673971628397.zoomTo();\n",
       "viewer_16333673971628397.render();\n",
       "});\n",
       "</script>"
      ]
     },
     "metadata": {},
     "output_type": "display_data"
    },
    {
     "name": "stdout",
     "output_type": "stream",
     "text": [
      "010442429_dft\n"
     ]
    },
    {
     "data": {
      "application/3dmoljs_load.v0": "<div id=\"3dmolviewer_16333673971638246\"  style=\"position: relative; width: 640px; height: 480px\">\n        <p id=\"3dmolwarning_16333673971638246\" style=\"background-color:#ffcccc;color:black\">You appear to be running in JupyterLab (or JavaScript failed to load for some other reason).  You need to install the 3dmol extension: <br>\n        <tt>jupyter labextension install jupyterlab_3dmol</tt></p>\n        </div>\n<script>\n\nvar loadScriptAsync = function(uri){\n  return new Promise((resolve, reject) => {\n    var tag = document.createElement('script');\n    tag.src = uri;\n    tag.async = true;\n    tag.onload = () => {\n      resolve();\n    };\n  var firstScriptTag = document.getElementsByTagName('script')[0];\n  firstScriptTag.parentNode.insertBefore(tag, firstScriptTag);\n});\n};\n\nif(typeof $3Dmolpromise === 'undefined') {\n$3Dmolpromise = null;\n  $3Dmolpromise = loadScriptAsync('https://3dmol.org/build/3Dmol.js');\n}\n\nvar viewer_16333673971638246 = null;\nvar warn = document.getElementById(\"3dmolwarning_16333673971638246\");\nif(warn) {\n    warn.parentNode.removeChild(warn);\n}\n$3Dmolpromise.then(function() {\nviewer_16333673971638246 = $3Dmol.createViewer($(\"#3dmolviewer_16333673971638246\"),{backgroundColor:\"white\"});\nviewer_16333673971638246.zoomTo();\n\tviewer_16333673971638246.addModel(\"[010442429_dft.out: Geometry 9]\\n OpenBabel09282115313D\\n\\n 27 27  0  0  0  0  0  0  0  0999 V2000\\n    2.5388    2.3400    0.2259 C   0  0  0  0  0  0  0  0  0  0  0  0\\n    1.0382    2.1769    0.0510 C   0  0  0  0  0  0  0  0  0  0  0  0\\n    0.6498    2.9264   -0.6547 H   0  0  0  0  0  0  0  0  0  0  0  0\\n    0.5176    2.3362    1.0146 H   0  0  0  0  0  0  0  0  0  0  0  0\\n    0.6558    0.9240   -0.4852 O   0  0  0  0  0  0  0  0  0  0  0  0\\n    0.6262   -0.1493    0.3974 C   0  0  0  0  0  0  0  0  0  0  0  0\\n    1.8824   -0.6976    0.6498 O   0  0  0  0  0  0  0  0  0  0  0  0\\n    2.5838   -1.2281   -0.4599 C   0  0  0  0  0  0  0  0  0  0  0  0\\n    4.0443   -1.3560   -0.0843 C   0  0  0  0  0  0  0  0  0  0  0  0\\n    4.6103   -1.8317   -0.8987 H   0  0  0  0  0  0  0  0  0  0  0  0\\n    4.4849   -0.3685    0.1163 H   0  0  0  0  0  0  0  0  0  0  0  0\\n    4.1538   -1.9704    0.8212 H   0  0  0  0  0  0  0  0  0  0  0  0\\n    2.1760   -2.2206   -0.7312 H   0  0  0  0  0  0  0  0  0  0  0  0\\n    2.4611   -0.5652   -1.3344 H   0  0  0  0  0  0  0  0  0  0  0  0\\n   -0.3598   -1.1723   -0.1848 C   0  0  0  0  0  0  0  0  0  0  0  0\\n   -1.7456   -0.6396   -0.2087 C   0  0  0  0  0  0  0  0  0  0  0  0\\n   -2.4670   -0.6946    0.9094 O   0  0  0  0  0  0  0  0  0  0  0  0\\n   -2.5104   -0.0103   -1.1419 C   0  0  0  0  0  0  0  0  0  0  0  0\\n   -3.6997    0.2926   -0.5344 N   0  0  0  0  0  0  0  0  0  0  0  0\\n   -3.6947   -0.0958    0.6564 N   0  0  0  0  0  0  0  0  0  0  0  0\\n   -2.2937    0.2483   -2.1741 H   0  0  0  0  0  0  0  0  0  0  0  0\\n   -0.3236   -2.0874    0.4234 H   0  0  0  0  0  0  0  0  0  0  0  0\\n   -0.0591   -1.4201   -1.2122 H   0  0  0  0  0  0  0  0  0  0  0  0\\n    0.2675    0.1825    1.3901 H   0  0  0  0  0  0  0  0  0  0  0  0\\n    2.9316    1.6332    0.9697 H   0  0  0  0  0  0  0  0  0  0  0  0\\n    2.7720    3.3631    0.5576 H   0  0  0  0  0  0  0  0  0  0  0  0\\n    3.0591    2.1639   -0.7282 H   0  0  0  0  0  0  0  0  0  0  0  0\\n  1 26  1  0  0  0  0\\n  1 25  1  0  0  0  0\\n  2  1  1  0  0  0  0\\n  2  4  1  0  0  0  0\\n  3  2  1  0  0  0  0\\n  5  2  1  0  0  0  0\\n  5  6  1  0  0  0  0\\n  6  7  1  0  0  0  0\\n  6 24  1  0  0  0  0\\n  8  9  1  0  0  0  0\\n  8  7  1  0  0  0  0\\n  9 11  1  0  0  0  0\\n  9 12  1  0  0  0  0\\n 10  9  1  0  0  0  0\\n 13  8  1  0  0  0  0\\n 14  8  1  0  0  0  0\\n 15  6  1  0  0  0  0\\n 15 22  1  0  0  0  0\\n 16 15  1  0  0  0  0\\n 16 17  1  0  0  0  0\\n 18 19  1  0  0  0  0\\n 18 16  2  0  0  0  0\\n 19 20  2  0  0  0  0\\n 20 17  1  0  0  0  0\\n 21 18  1  0  0  0  0\\n 23 15  1  0  0  0  0\\n 27  1  1  0  0  0  0\\nM  END\\n$$$$\\n\",\"sdf\");\n\tviewer_16333673971638246.setStyle({\"stick\": {}});\n\tviewer_16333673971638246.zoomTo();\nviewer_16333673971638246.render();\n});\n</script>",
      "text/html": [
       "<div id=\"3dmolviewer_16333673971638246\"  style=\"position: relative; width: 640px; height: 480px\">\n",
       "        <p id=\"3dmolwarning_16333673971638246\" style=\"background-color:#ffcccc;color:black\">You appear to be running in JupyterLab (or JavaScript failed to load for some other reason).  You need to install the 3dmol extension: <br>\n",
       "        <tt>jupyter labextension install jupyterlab_3dmol</tt></p>\n",
       "        </div>\n",
       "<script>\n",
       "\n",
       "var loadScriptAsync = function(uri){\n",
       "  return new Promise((resolve, reject) => {\n",
       "    var tag = document.createElement('script');\n",
       "    tag.src = uri;\n",
       "    tag.async = true;\n",
       "    tag.onload = () => {\n",
       "      resolve();\n",
       "    };\n",
       "  var firstScriptTag = document.getElementsByTagName('script')[0];\n",
       "  firstScriptTag.parentNode.insertBefore(tag, firstScriptTag);\n",
       "});\n",
       "};\n",
       "\n",
       "if(typeof $3Dmolpromise === 'undefined') {\n",
       "$3Dmolpromise = null;\n",
       "  $3Dmolpromise = loadScriptAsync('https://3dmol.org/build/3Dmol.js');\n",
       "}\n",
       "\n",
       "var viewer_16333673971638246 = null;\n",
       "var warn = document.getElementById(\"3dmolwarning_16333673971638246\");\n",
       "if(warn) {\n",
       "    warn.parentNode.removeChild(warn);\n",
       "}\n",
       "$3Dmolpromise.then(function() {\n",
       "viewer_16333673971638246 = $3Dmol.createViewer($(\"#3dmolviewer_16333673971638246\"),{backgroundColor:\"white\"});\n",
       "viewer_16333673971638246.zoomTo();\n",
       "\tviewer_16333673971638246.addModel(\"[010442429_dft.out: Geometry 9]\\n OpenBabel09282115313D\\n\\n 27 27  0  0  0  0  0  0  0  0999 V2000\\n    2.5388    2.3400    0.2259 C   0  0  0  0  0  0  0  0  0  0  0  0\\n    1.0382    2.1769    0.0510 C   0  0  0  0  0  0  0  0  0  0  0  0\\n    0.6498    2.9264   -0.6547 H   0  0  0  0  0  0  0  0  0  0  0  0\\n    0.5176    2.3362    1.0146 H   0  0  0  0  0  0  0  0  0  0  0  0\\n    0.6558    0.9240   -0.4852 O   0  0  0  0  0  0  0  0  0  0  0  0\\n    0.6262   -0.1493    0.3974 C   0  0  0  0  0  0  0  0  0  0  0  0\\n    1.8824   -0.6976    0.6498 O   0  0  0  0  0  0  0  0  0  0  0  0\\n    2.5838   -1.2281   -0.4599 C   0  0  0  0  0  0  0  0  0  0  0  0\\n    4.0443   -1.3560   -0.0843 C   0  0  0  0  0  0  0  0  0  0  0  0\\n    4.6103   -1.8317   -0.8987 H   0  0  0  0  0  0  0  0  0  0  0  0\\n    4.4849   -0.3685    0.1163 H   0  0  0  0  0  0  0  0  0  0  0  0\\n    4.1538   -1.9704    0.8212 H   0  0  0  0  0  0  0  0  0  0  0  0\\n    2.1760   -2.2206   -0.7312 H   0  0  0  0  0  0  0  0  0  0  0  0\\n    2.4611   -0.5652   -1.3344 H   0  0  0  0  0  0  0  0  0  0  0  0\\n   -0.3598   -1.1723   -0.1848 C   0  0  0  0  0  0  0  0  0  0  0  0\\n   -1.7456   -0.6396   -0.2087 C   0  0  0  0  0  0  0  0  0  0  0  0\\n   -2.4670   -0.6946    0.9094 O   0  0  0  0  0  0  0  0  0  0  0  0\\n   -2.5104   -0.0103   -1.1419 C   0  0  0  0  0  0  0  0  0  0  0  0\\n   -3.6997    0.2926   -0.5344 N   0  0  0  0  0  0  0  0  0  0  0  0\\n   -3.6947   -0.0958    0.6564 N   0  0  0  0  0  0  0  0  0  0  0  0\\n   -2.2937    0.2483   -2.1741 H   0  0  0  0  0  0  0  0  0  0  0  0\\n   -0.3236   -2.0874    0.4234 H   0  0  0  0  0  0  0  0  0  0  0  0\\n   -0.0591   -1.4201   -1.2122 H   0  0  0  0  0  0  0  0  0  0  0  0\\n    0.2675    0.1825    1.3901 H   0  0  0  0  0  0  0  0  0  0  0  0\\n    2.9316    1.6332    0.9697 H   0  0  0  0  0  0  0  0  0  0  0  0\\n    2.7720    3.3631    0.5576 H   0  0  0  0  0  0  0  0  0  0  0  0\\n    3.0591    2.1639   -0.7282 H   0  0  0  0  0  0  0  0  0  0  0  0\\n  1 26  1  0  0  0  0\\n  1 25  1  0  0  0  0\\n  2  1  1  0  0  0  0\\n  2  4  1  0  0  0  0\\n  3  2  1  0  0  0  0\\n  5  2  1  0  0  0  0\\n  5  6  1  0  0  0  0\\n  6  7  1  0  0  0  0\\n  6 24  1  0  0  0  0\\n  8  9  1  0  0  0  0\\n  8  7  1  0  0  0  0\\n  9 11  1  0  0  0  0\\n  9 12  1  0  0  0  0\\n 10  9  1  0  0  0  0\\n 13  8  1  0  0  0  0\\n 14  8  1  0  0  0  0\\n 15  6  1  0  0  0  0\\n 15 22  1  0  0  0  0\\n 16 15  1  0  0  0  0\\n 16 17  1  0  0  0  0\\n 18 19  1  0  0  0  0\\n 18 16  2  0  0  0  0\\n 19 20  2  0  0  0  0\\n 20 17  1  0  0  0  0\\n 21 18  1  0  0  0  0\\n 23 15  1  0  0  0  0\\n 27  1  1  0  0  0  0\\nM  END\\n$$$$\\n\",\"sdf\");\n",
       "\tviewer_16333673971638246.setStyle({\"stick\": {}});\n",
       "\tviewer_16333673971638246.zoomTo();\n",
       "viewer_16333673971638246.render();\n",
       "});\n",
       "</script>"
      ]
     },
     "metadata": {},
     "output_type": "display_data"
    },
    {
     "name": "stdout",
     "output_type": "stream",
     "text": [
      "014597325\n"
     ]
    },
    {
     "data": {
      "application/3dmoljs_load.v0": "<div id=\"3dmolviewer_16333673971645794\"  style=\"position: relative; width: 640px; height: 480px\">\n        <p id=\"3dmolwarning_16333673971645794\" style=\"background-color:#ffcccc;color:black\">You appear to be running in JupyterLab (or JavaScript failed to load for some other reason).  You need to install the 3dmol extension: <br>\n        <tt>jupyter labextension install jupyterlab_3dmol</tt></p>\n        </div>\n<script>\n\nvar loadScriptAsync = function(uri){\n  return new Promise((resolve, reject) => {\n    var tag = document.createElement('script');\n    tag.src = uri;\n    tag.async = true;\n    tag.onload = () => {\n      resolve();\n    };\n  var firstScriptTag = document.getElementsByTagName('script')[0];\n  firstScriptTag.parentNode.insertBefore(tag, firstScriptTag);\n});\n};\n\nif(typeof $3Dmolpromise === 'undefined') {\n$3Dmolpromise = null;\n  $3Dmolpromise = loadScriptAsync('https://3dmol.org/build/3Dmol.js');\n}\n\nvar viewer_16333673971645794 = null;\nvar warn = document.getElementById(\"3dmolwarning_16333673971645794\");\nif(warn) {\n    warn.parentNode.removeChild(warn);\n}\n$3Dmolpromise.then(function() {\nviewer_16333673971645794 = $3Dmol.createViewer($(\"#3dmolviewer_16333673971645794\"),{backgroundColor:\"white\"});\nviewer_16333673971645794.zoomTo();\n\tviewer_16333673971645794.addModel(\"-32.24236961\\n OpenBabel09032119083D\\n\\n 20 20  0  0  1  0  0  0  0  0999 V2000\\n   -3.0322   -0.6949   -0.6813 C   0  0  0  0  0  0  0  0  0  0  0  0\\n   -2.3586    0.0617    0.4609 C   0  0  0  0  0  0  0  0  0  0  0  0\\n   -2.9394   -0.0581    1.3789 H   0  0  0  0  0  0  0  0  0  0  0  0\\n   -1.0785   -0.4538    0.8018 O   0  0  0  0  0  0  0  0  0  0  0  0\\n   -0.0342   -0.1772   -0.1001 C   0  0  1  0  0  0  0  0  0  0  0  0\\n    0.4331    1.2894   -0.1476 C   0  0  0  0  0  0  0  0  0  0  0  0\\n   -0.2751    2.2633   -0.2084 O   0  0  0  0  0  0  0  0  0  0  0  0\\n    1.9018    1.2538   -0.1134 C   0  0  0  0  0  0  0  0  0  0  0  0\\n    2.3429    0.0191    0.1159 C   0  0  0  0  0  0  0  0  0  0  0  0\\n    1.2280   -0.9617    0.3217 C   0  0  2  0  0  0  0  0  0  0  0  0\\n    1.4589   -2.1412   -0.4026 O   0  0  0  0  0  0  0  0  0  0  0  0\\n    0.7466   -2.7621   -0.2151 H   0  0  0  0  0  0  0  0  0  0  0  0\\n    1.1368   -1.1826    1.3984 H   0  0  0  0  0  0  0  0  0  0  0  0\\n    3.3663   -0.3097    0.1610 H   0  0  0  0  0  0  0  0  0  0  0  0\\n    2.4967    2.1392   -0.2525 H   0  0  0  0  0  0  0  0  0  0  0  0\\n   -0.3014   -0.4695   -1.1287 H   0  0  0  0  0  0  0  0  0  0  0  0\\n   -2.2884    1.1273    0.2244 H   0  0  0  0  0  0  0  0  0  0  0  0\\n   -4.0560   -0.3472   -0.7850 H   0  0  0  0  0  0  0  0  0  0  0  0\\n   -3.0425   -1.7623   -0.4716 H   0  0  0  0  0  0  0  0  0  0  0  0\\n   -2.5187   -0.5262   -1.6251 H   0  0  0  0  0  0  0  0  0  0  0  0\\n  1 19  1  0  0  0  0\\n  1  2  1  0  0  0  0\\n  2  4  1  0  0  0  0\\n  2  3  1  0  0  0  0\\n  5 16  1  6  0  0  0\\n  5 10  1  0  0  0  0\\n  5  4  1  0  0  0  0\\n  6  8  1  0  0  0  0\\n  6  5  1  0  0  0  0\\n  7  6  2  0  0  0  0\\n  8  9  2  0  0  0  0\\n  9 14  1  0  0  0  0\\n  9 10  1  0  0  0  0\\n 10 13  1  1  0  0  0\\n 11 12  1  0  0  0  0\\n 11 10  1  0  0  0  0\\n 15  8  1  0  0  0  0\\n 17  2  1  0  0  0  0\\n 18  1  1  0  0  0  0\\n 20  1  1  0  0  0  0\\nM  END\\n$$$$\\n\",\"sdf\");\n\tviewer_16333673971645794.setStyle({\"stick\": {}});\n\tviewer_16333673971645794.zoomTo();\nviewer_16333673971645794.render();\n});\n</script>",
      "text/html": [
       "<div id=\"3dmolviewer_16333673971645794\"  style=\"position: relative; width: 640px; height: 480px\">\n",
       "        <p id=\"3dmolwarning_16333673971645794\" style=\"background-color:#ffcccc;color:black\">You appear to be running in JupyterLab (or JavaScript failed to load for some other reason).  You need to install the 3dmol extension: <br>\n",
       "        <tt>jupyter labextension install jupyterlab_3dmol</tt></p>\n",
       "        </div>\n",
       "<script>\n",
       "\n",
       "var loadScriptAsync = function(uri){\n",
       "  return new Promise((resolve, reject) => {\n",
       "    var tag = document.createElement('script');\n",
       "    tag.src = uri;\n",
       "    tag.async = true;\n",
       "    tag.onload = () => {\n",
       "      resolve();\n",
       "    };\n",
       "  var firstScriptTag = document.getElementsByTagName('script')[0];\n",
       "  firstScriptTag.parentNode.insertBefore(tag, firstScriptTag);\n",
       "});\n",
       "};\n",
       "\n",
       "if(typeof $3Dmolpromise === 'undefined') {\n",
       "$3Dmolpromise = null;\n",
       "  $3Dmolpromise = loadScriptAsync('https://3dmol.org/build/3Dmol.js');\n",
       "}\n",
       "\n",
       "var viewer_16333673971645794 = null;\n",
       "var warn = document.getElementById(\"3dmolwarning_16333673971645794\");\n",
       "if(warn) {\n",
       "    warn.parentNode.removeChild(warn);\n",
       "}\n",
       "$3Dmolpromise.then(function() {\n",
       "viewer_16333673971645794 = $3Dmol.createViewer($(\"#3dmolviewer_16333673971645794\"),{backgroundColor:\"white\"});\n",
       "viewer_16333673971645794.zoomTo();\n",
       "\tviewer_16333673971645794.addModel(\"-32.24236961\\n OpenBabel09032119083D\\n\\n 20 20  0  0  1  0  0  0  0  0999 V2000\\n   -3.0322   -0.6949   -0.6813 C   0  0  0  0  0  0  0  0  0  0  0  0\\n   -2.3586    0.0617    0.4609 C   0  0  0  0  0  0  0  0  0  0  0  0\\n   -2.9394   -0.0581    1.3789 H   0  0  0  0  0  0  0  0  0  0  0  0\\n   -1.0785   -0.4538    0.8018 O   0  0  0  0  0  0  0  0  0  0  0  0\\n   -0.0342   -0.1772   -0.1001 C   0  0  1  0  0  0  0  0  0  0  0  0\\n    0.4331    1.2894   -0.1476 C   0  0  0  0  0  0  0  0  0  0  0  0\\n   -0.2751    2.2633   -0.2084 O   0  0  0  0  0  0  0  0  0  0  0  0\\n    1.9018    1.2538   -0.1134 C   0  0  0  0  0  0  0  0  0  0  0  0\\n    2.3429    0.0191    0.1159 C   0  0  0  0  0  0  0  0  0  0  0  0\\n    1.2280   -0.9617    0.3217 C   0  0  2  0  0  0  0  0  0  0  0  0\\n    1.4589   -2.1412   -0.4026 O   0  0  0  0  0  0  0  0  0  0  0  0\\n    0.7466   -2.7621   -0.2151 H   0  0  0  0  0  0  0  0  0  0  0  0\\n    1.1368   -1.1826    1.3984 H   0  0  0  0  0  0  0  0  0  0  0  0\\n    3.3663   -0.3097    0.1610 H   0  0  0  0  0  0  0  0  0  0  0  0\\n    2.4967    2.1392   -0.2525 H   0  0  0  0  0  0  0  0  0  0  0  0\\n   -0.3014   -0.4695   -1.1287 H   0  0  0  0  0  0  0  0  0  0  0  0\\n   -2.2884    1.1273    0.2244 H   0  0  0  0  0  0  0  0  0  0  0  0\\n   -4.0560   -0.3472   -0.7850 H   0  0  0  0  0  0  0  0  0  0  0  0\\n   -3.0425   -1.7623   -0.4716 H   0  0  0  0  0  0  0  0  0  0  0  0\\n   -2.5187   -0.5262   -1.6251 H   0  0  0  0  0  0  0  0  0  0  0  0\\n  1 19  1  0  0  0  0\\n  1  2  1  0  0  0  0\\n  2  4  1  0  0  0  0\\n  2  3  1  0  0  0  0\\n  5 16  1  6  0  0  0\\n  5 10  1  0  0  0  0\\n  5  4  1  0  0  0  0\\n  6  8  1  0  0  0  0\\n  6  5  1  0  0  0  0\\n  7  6  2  0  0  0  0\\n  8  9  2  0  0  0  0\\n  9 14  1  0  0  0  0\\n  9 10  1  0  0  0  0\\n 10 13  1  1  0  0  0\\n 11 12  1  0  0  0  0\\n 11 10  1  0  0  0  0\\n 15  8  1  0  0  0  0\\n 17  2  1  0  0  0  0\\n 18  1  1  0  0  0  0\\n 20  1  1  0  0  0  0\\nM  END\\n$$$$\\n\",\"sdf\");\n",
       "\tviewer_16333673971645794.setStyle({\"stick\": {}});\n",
       "\tviewer_16333673971645794.zoomTo();\n",
       "viewer_16333673971645794.render();\n",
       "});\n",
       "</script>"
      ]
     },
     "metadata": {},
     "output_type": "display_data"
    },
    {
     "name": "stdout",
     "output_type": "stream",
     "text": [
      "014597325_dft\n"
     ]
    },
    {
     "data": {
      "application/3dmoljs_load.v0": "<div id=\"3dmolviewer_1633367397165319\"  style=\"position: relative; width: 640px; height: 480px\">\n        <p id=\"3dmolwarning_1633367397165319\" style=\"background-color:#ffcccc;color:black\">You appear to be running in JupyterLab (or JavaScript failed to load for some other reason).  You need to install the 3dmol extension: <br>\n        <tt>jupyter labextension install jupyterlab_3dmol</tt></p>\n        </div>\n<script>\n\nvar loadScriptAsync = function(uri){\n  return new Promise((resolve, reject) => {\n    var tag = document.createElement('script');\n    tag.src = uri;\n    tag.async = true;\n    tag.onload = () => {\n      resolve();\n    };\n  var firstScriptTag = document.getElementsByTagName('script')[0];\n  firstScriptTag.parentNode.insertBefore(tag, firstScriptTag);\n});\n};\n\nif(typeof $3Dmolpromise === 'undefined') {\n$3Dmolpromise = null;\n  $3Dmolpromise = loadScriptAsync('https://3dmol.org/build/3Dmol.js');\n}\n\nvar viewer_1633367397165319 = null;\nvar warn = document.getElementById(\"3dmolwarning_1633367397165319\");\nif(warn) {\n    warn.parentNode.removeChild(warn);\n}\n$3Dmolpromise.then(function() {\nviewer_1633367397165319 = $3Dmol.createViewer($(\"#3dmolviewer_1633367397165319\"),{backgroundColor:\"white\"});\nviewer_1633367397165319.zoomTo();\n\tviewer_1633367397165319.addModel(\"[014597325_dft.out: Geometry 10]\\n OpenBabel09282115313D\\n\\n 20 20  0  0  1  0  0  0  0  0999 V2000\\n   -3.0152   -0.8722   -0.6493 C   0  0  0  0  0  0  0  0  0  0  0  0\\n   -2.3801    0.0865    0.3448 C   0  0  0  0  0  0  0  0  0  0  0  0\\n   -3.0008    0.1620    1.2503 H   0  0  0  0  0  0  0  0  0  0  0  0\\n   -1.1125   -0.3715    0.7865 O   0  0  0  0  0  0  0  0  0  0  0  0\\n   -0.0371   -0.0611   -0.0380 C   0  0  1  0  0  0  0  0  0  0  0  0\\n    0.5021    1.3750    0.0911 C   0  0  0  0  0  0  0  0  0  0  0  0\\n   -0.1563    2.3644    0.2900 O   0  0  0  0  0  0  0  0  0  0  0  0\\n    1.9747    1.2732   -0.0740 C   0  0  0  0  0  0  0  0  0  0  0  0\\n    2.3398   -0.0137   -0.0111 C   0  0  0  0  0  0  0  0  0  0  0  0\\n    1.1828   -0.9344    0.2726 C   0  0  2  0  0  0  0  0  0  0  0  0\\n    1.2831   -2.1116   -0.4778 O   0  0  0  0  0  0  0  0  0  0  0  0\\n    0.5737   -2.6984   -0.1979 H   0  0  0  0  0  0  0  0  0  0  0  0\\n    1.1599   -1.1532    1.3598 H   0  0  0  0  0  0  0  0  0  0  0  0\\n    3.3553   -0.4049   -0.1135 H   0  0  0  0  0  0  0  0  0  0  0  0\\n    2.6242    2.1403   -0.2026 H   0  0  0  0  0  0  0  0  0  0  0  0\\n   -0.2651   -0.2205   -1.1126 H   0  0  0  0  0  0  0  0  0  0  0  0\\n   -2.2923    1.1035   -0.0703 H   0  0  0  0  0  0  0  0  0  0  0  0\\n   -4.0197   -0.5241   -0.9326 H   0  0  0  0  0  0  0  0  0  0  0  0\\n   -3.1086   -1.8769   -0.2104 H   0  0  0  0  0  0  0  0  0  0  0  0\\n   -2.4218   -0.9555   -1.5734 H   0  0  0  0  0  0  0  0  0  0  0  0\\n  1 19  1  0  0  0  0\\n  1  2  1  0  0  0  0\\n  2  4  1  0  0  0  0\\n  2  3  1  0  0  0  0\\n  5 16  1  6  0  0  0\\n  5  6  1  0  0  0  0\\n  5 10  1  0  0  0  0\\n  5  4  1  0  0  0  0\\n  6  7  2  0  0  0  0\\n  8  9  2  0  0  0  0\\n  8  6  1  0  0  0  0\\n  9 10  1  0  0  0  0\\n 10 13  1  1  0  0  0\\n 11 12  1  0  0  0  0\\n 11 10  1  0  0  0  0\\n 14  9  1  0  0  0  0\\n 15  8  1  0  0  0  0\\n 17  2  1  0  0  0  0\\n 18  1  1  0  0  0  0\\n 20  1  1  0  0  0  0\\nM  END\\n$$$$\\n\",\"sdf\");\n\tviewer_1633367397165319.setStyle({\"stick\": {}});\n\tviewer_1633367397165319.zoomTo();\nviewer_1633367397165319.render();\n});\n</script>",
      "text/html": [
       "<div id=\"3dmolviewer_1633367397165319\"  style=\"position: relative; width: 640px; height: 480px\">\n",
       "        <p id=\"3dmolwarning_1633367397165319\" style=\"background-color:#ffcccc;color:black\">You appear to be running in JupyterLab (or JavaScript failed to load for some other reason).  You need to install the 3dmol extension: <br>\n",
       "        <tt>jupyter labextension install jupyterlab_3dmol</tt></p>\n",
       "        </div>\n",
       "<script>\n",
       "\n",
       "var loadScriptAsync = function(uri){\n",
       "  return new Promise((resolve, reject) => {\n",
       "    var tag = document.createElement('script');\n",
       "    tag.src = uri;\n",
       "    tag.async = true;\n",
       "    tag.onload = () => {\n",
       "      resolve();\n",
       "    };\n",
       "  var firstScriptTag = document.getElementsByTagName('script')[0];\n",
       "  firstScriptTag.parentNode.insertBefore(tag, firstScriptTag);\n",
       "});\n",
       "};\n",
       "\n",
       "if(typeof $3Dmolpromise === 'undefined') {\n",
       "$3Dmolpromise = null;\n",
       "  $3Dmolpromise = loadScriptAsync('https://3dmol.org/build/3Dmol.js');\n",
       "}\n",
       "\n",
       "var viewer_1633367397165319 = null;\n",
       "var warn = document.getElementById(\"3dmolwarning_1633367397165319\");\n",
       "if(warn) {\n",
       "    warn.parentNode.removeChild(warn);\n",
       "}\n",
       "$3Dmolpromise.then(function() {\n",
       "viewer_1633367397165319 = $3Dmol.createViewer($(\"#3dmolviewer_1633367397165319\"),{backgroundColor:\"white\"});\n",
       "viewer_1633367397165319.zoomTo();\n",
       "\tviewer_1633367397165319.addModel(\"[014597325_dft.out: Geometry 10]\\n OpenBabel09282115313D\\n\\n 20 20  0  0  1  0  0  0  0  0999 V2000\\n   -3.0152   -0.8722   -0.6493 C   0  0  0  0  0  0  0  0  0  0  0  0\\n   -2.3801    0.0865    0.3448 C   0  0  0  0  0  0  0  0  0  0  0  0\\n   -3.0008    0.1620    1.2503 H   0  0  0  0  0  0  0  0  0  0  0  0\\n   -1.1125   -0.3715    0.7865 O   0  0  0  0  0  0  0  0  0  0  0  0\\n   -0.0371   -0.0611   -0.0380 C   0  0  1  0  0  0  0  0  0  0  0  0\\n    0.5021    1.3750    0.0911 C   0  0  0  0  0  0  0  0  0  0  0  0\\n   -0.1563    2.3644    0.2900 O   0  0  0  0  0  0  0  0  0  0  0  0\\n    1.9747    1.2732   -0.0740 C   0  0  0  0  0  0  0  0  0  0  0  0\\n    2.3398   -0.0137   -0.0111 C   0  0  0  0  0  0  0  0  0  0  0  0\\n    1.1828   -0.9344    0.2726 C   0  0  2  0  0  0  0  0  0  0  0  0\\n    1.2831   -2.1116   -0.4778 O   0  0  0  0  0  0  0  0  0  0  0  0\\n    0.5737   -2.6984   -0.1979 H   0  0  0  0  0  0  0  0  0  0  0  0\\n    1.1599   -1.1532    1.3598 H   0  0  0  0  0  0  0  0  0  0  0  0\\n    3.3553   -0.4049   -0.1135 H   0  0  0  0  0  0  0  0  0  0  0  0\\n    2.6242    2.1403   -0.2026 H   0  0  0  0  0  0  0  0  0  0  0  0\\n   -0.2651   -0.2205   -1.1126 H   0  0  0  0  0  0  0  0  0  0  0  0\\n   -2.2923    1.1035   -0.0703 H   0  0  0  0  0  0  0  0  0  0  0  0\\n   -4.0197   -0.5241   -0.9326 H   0  0  0  0  0  0  0  0  0  0  0  0\\n   -3.1086   -1.8769   -0.2104 H   0  0  0  0  0  0  0  0  0  0  0  0\\n   -2.4218   -0.9555   -1.5734 H   0  0  0  0  0  0  0  0  0  0  0  0\\n  1 19  1  0  0  0  0\\n  1  2  1  0  0  0  0\\n  2  4  1  0  0  0  0\\n  2  3  1  0  0  0  0\\n  5 16  1  6  0  0  0\\n  5  6  1  0  0  0  0\\n  5 10  1  0  0  0  0\\n  5  4  1  0  0  0  0\\n  6  7  2  0  0  0  0\\n  8  9  2  0  0  0  0\\n  8  6  1  0  0  0  0\\n  9 10  1  0  0  0  0\\n 10 13  1  1  0  0  0\\n 11 12  1  0  0  0  0\\n 11 10  1  0  0  0  0\\n 14  9  1  0  0  0  0\\n 15  8  1  0  0  0  0\\n 17  2  1  0  0  0  0\\n 18  1  1  0  0  0  0\\n 20  1  1  0  0  0  0\\nM  END\\n$$$$\\n\",\"sdf\");\n",
       "\tviewer_1633367397165319.setStyle({\"stick\": {}});\n",
       "\tviewer_1633367397165319.zoomTo();\n",
       "viewer_1633367397165319.render();\n",
       "});\n",
       "</script>"
      ]
     },
     "metadata": {},
     "output_type": "display_data"
    },
    {
     "name": "stdout",
     "output_type": "stream",
     "text": [
      "023440332\n"
     ]
    },
    {
     "data": {
      "application/3dmoljs_load.v0": "<div id=\"3dmolviewer_16333673971660516\"  style=\"position: relative; width: 640px; height: 480px\">\n        <p id=\"3dmolwarning_16333673971660516\" style=\"background-color:#ffcccc;color:black\">You appear to be running in JupyterLab (or JavaScript failed to load for some other reason).  You need to install the 3dmol extension: <br>\n        <tt>jupyter labextension install jupyterlab_3dmol</tt></p>\n        </div>\n<script>\n\nvar loadScriptAsync = function(uri){\n  return new Promise((resolve, reject) => {\n    var tag = document.createElement('script');\n    tag.src = uri;\n    tag.async = true;\n    tag.onload = () => {\n      resolve();\n    };\n  var firstScriptTag = document.getElementsByTagName('script')[0];\n  firstScriptTag.parentNode.insertBefore(tag, firstScriptTag);\n});\n};\n\nif(typeof $3Dmolpromise === 'undefined') {\n$3Dmolpromise = null;\n  $3Dmolpromise = loadScriptAsync('https://3dmol.org/build/3Dmol.js');\n}\n\nvar viewer_16333673971660516 = null;\nvar warn = document.getElementById(\"3dmolwarning_16333673971660516\");\nif(warn) {\n    warn.parentNode.removeChild(warn);\n}\n$3Dmolpromise.then(function() {\nviewer_16333673971660516 = $3Dmol.createViewer($(\"#3dmolviewer_16333673971660516\"),{backgroundColor:\"white\"});\nviewer_16333673971660516.zoomTo();\n\tviewer_16333673971660516.addModel(\"-54.17143476\\n OpenBabel09032121003D\\n\\n 40 40  0  0  0  0  0  0  0  0999 V2000\\n   -3.9069   -1.4790    0.2741 C   0  0  0  0  0  0  0  0  0  0  0  0\\n   -3.3219   -2.2011    0.8364 H   0  0  0  0  0  0  0  0  0  0  0  0\\n   -4.7165   -2.0119   -0.2187 H   0  0  0  0  0  0  0  0  0  0  0  0\\n   -4.3395   -0.7631    0.9700 H   0  0  0  0  0  0  0  0  0  0  0  0\\n   -3.0433   -0.7712   -0.7646 C   0  0  0  0  0  0  0  0  0  0  0  0\\n   -1.9891    0.1466   -0.1514 C   0  0  0  0  0  0  0  0  0  0  0  0\\n   -0.9902   -0.6049    0.7258 C   0  0  0  0  0  0  0  0  0  0  0  0\\n   -0.4424   -1.6721   -0.0178 O   0  0  0  0  0  0  0  0  0  0  0  0\\n    0.4471   -2.4947    0.7008 C   0  0  0  0  0  0  0  0  0  0  0  0\\n    1.8412   -1.8962    0.9580 C   0  0  0  0  0  0  0  0  0  0  0  0\\n    2.6885   -1.9506   -0.1710 O   0  0  0  0  0  0  0  0  0  0  0  0\\n    2.4009   -1.0044   -1.1770 C   0  0  0  0  0  0  0  0  0  0  0  0\\n    2.8672    0.4150   -0.8310 C   0  0  0  0  0  0  0  0  0  0  0  0\\n    1.9172    1.0540   -0.0093 O   0  0  0  0  0  0  0  0  0  0  0  0\\n    2.2434    2.3968    0.2840 C   0  0  0  0  0  0  0  0  0  0  0  0\\n    1.1490    2.9954    1.1526 C   0  0  0  0  0  0  0  0  0  0  0  0\\n    1.0625    2.4357    2.0809 H   0  0  0  0  0  0  0  0  0  0  0  0\\n    0.1960    2.9643    0.6305 H   0  0  0  0  0  0  0  0  0  0  0  0\\n    1.3919    4.0285    1.3851 H   0  0  0  0  0  0  0  0  0  0  0  0\\n    3.2147    2.4347    0.8035 H   0  0  0  0  0  0  0  0  0  0  0  0\\n    2.3402    2.9651   -0.6544 H   0  0  0  0  0  0  0  0  0  0  0  0\\n    3.8410    0.3662   -0.3199 H   0  0  0  0  0  0  0  0  0  0  0  0\\n    2.9952    0.9887   -1.7626 H   0  0  0  0  0  0  0  0  0  0  0  0\\n    1.3299   -0.9880   -1.4039 H   0  0  0  0  0  0  0  0  0  0  0  0\\n    2.9541   -1.3492   -2.0539 H   0  0  0  0  0  0  0  0  0  0  0  0\\n    2.3427   -2.5034    1.7161 H   0  0  0  0  0  0  0  0  0  0  0  0\\n    1.7527   -0.8677    1.3216 H   0  0  0  0  0  0  0  0  0  0  0  0\\n    0.0005   -2.7715    1.6685 H   0  0  0  0  0  0  0  0  0  0  0  0\\n    0.5618   -3.3946    0.0902 H   0  0  0  0  0  0  0  0  0  0  0  0\\n   -1.4927   -0.9929    1.6266 H   0  0  0  0  0  0  0  0  0  0  0  0\\n   -0.2052    0.0932    1.0431 H   0  0  0  0  0  0  0  0  0  0  0  0\\n   -1.3105    1.1098   -1.1425 C   0  0  0  0  0  0  0  0  0  0  0  0\\n   -1.6996    1.0781   -2.1637 H   0  0  0  0  0  0  0  0  0  0  0  0\\n   -0.2199    1.0759   -1.1548 H   0  0  0  0  0  0  0  0  0  0  0  0\\n   -1.8009    2.2492   -0.4260 O   0  0  0  0  0  0  0  0  0  0  0  0\\n   -2.5181    1.4354    0.5010 C   0  0  0  0  0  0  0  0  0  0  0  0\\n   -2.2030    1.6158    1.5329 H   0  0  0  0  0  0  0  0  0  0  0  0\\n   -3.5981    1.5880    0.4159 H   0  0  0  0  0  0  0  0  0  0  0  0\\n   -2.5281   -1.5119   -1.3780 H   0  0  0  0  0  0  0  0  0  0  0  0\\n   -3.6836   -0.1722   -1.4164 H   0  0  0  0  0  0  0  0  0  0  0  0\\n  1  2  1  0  0  0  0\\n  1  4  1  0  0  0  0\\n  3  1  1  0  0  0  0\\n  5  6  1  0  0  0  0\\n  5  1  1  0  0  0  0\\n  6 36  1  0  0  0  0\\n  6  7  1  0  0  0  0\\n  7 31  1  0  0  0  0\\n  7 30  1  0  0  0  0\\n  8  9  1  0  0  0  0\\n  8  7  1  0  0  0  0\\n  9 10  1  0  0  0  0\\n  9 28  1  0  0  0  0\\n 10 27  1  0  0  0  0\\n 10 26  1  0  0  0  0\\n 11 10  1  0  0  0  0\\n 12 13  1  0  0  0  0\\n 12 11  1  0  0  0  0\\n 13 22  1  0  0  0  0\\n 13 14  1  0  0  0  0\\n 14 15  1  0  0  0  0\\n 15 20  1  0  0  0  0\\n 15 16  1  0  0  0  0\\n 16 19  1  0  0  0  0\\n 16 17  1  0  0  0  0\\n 18 16  1  0  0  0  0\\n 21 15  1  0  0  0  0\\n 23 13  1  0  0  0  0\\n 24 12  1  0  0  0  0\\n 25 12  1  0  0  0  0\\n 29  9  1  0  0  0  0\\n 32 35  1  0  0  0  0\\n 32  6  1  0  0  0  0\\n 33 32  1  0  0  0  0\\n 34 32  1  0  0  0  0\\n 35 36  1  0  0  0  0\\n 36 37  1  0  0  0  0\\n 38 36  1  0  0  0  0\\n 39  5  1  0  0  0  0\\n 40  5  1  0  0  0  0\\nM  END\\n$$$$\\n\",\"sdf\");\n\tviewer_16333673971660516.setStyle({\"stick\": {}});\n\tviewer_16333673971660516.zoomTo();\nviewer_16333673971660516.render();\n});\n</script>",
      "text/html": [
       "<div id=\"3dmolviewer_16333673971660516\"  style=\"position: relative; width: 640px; height: 480px\">\n",
       "        <p id=\"3dmolwarning_16333673971660516\" style=\"background-color:#ffcccc;color:black\">You appear to be running in JupyterLab (or JavaScript failed to load for some other reason).  You need to install the 3dmol extension: <br>\n",
       "        <tt>jupyter labextension install jupyterlab_3dmol</tt></p>\n",
       "        </div>\n",
       "<script>\n",
       "\n",
       "var loadScriptAsync = function(uri){\n",
       "  return new Promise((resolve, reject) => {\n",
       "    var tag = document.createElement('script');\n",
       "    tag.src = uri;\n",
       "    tag.async = true;\n",
       "    tag.onload = () => {\n",
       "      resolve();\n",
       "    };\n",
       "  var firstScriptTag = document.getElementsByTagName('script')[0];\n",
       "  firstScriptTag.parentNode.insertBefore(tag, firstScriptTag);\n",
       "});\n",
       "};\n",
       "\n",
       "if(typeof $3Dmolpromise === 'undefined') {\n",
       "$3Dmolpromise = null;\n",
       "  $3Dmolpromise = loadScriptAsync('https://3dmol.org/build/3Dmol.js');\n",
       "}\n",
       "\n",
       "var viewer_16333673971660516 = null;\n",
       "var warn = document.getElementById(\"3dmolwarning_16333673971660516\");\n",
       "if(warn) {\n",
       "    warn.parentNode.removeChild(warn);\n",
       "}\n",
       "$3Dmolpromise.then(function() {\n",
       "viewer_16333673971660516 = $3Dmol.createViewer($(\"#3dmolviewer_16333673971660516\"),{backgroundColor:\"white\"});\n",
       "viewer_16333673971660516.zoomTo();\n",
       "\tviewer_16333673971660516.addModel(\"-54.17143476\\n OpenBabel09032121003D\\n\\n 40 40  0  0  0  0  0  0  0  0999 V2000\\n   -3.9069   -1.4790    0.2741 C   0  0  0  0  0  0  0  0  0  0  0  0\\n   -3.3219   -2.2011    0.8364 H   0  0  0  0  0  0  0  0  0  0  0  0\\n   -4.7165   -2.0119   -0.2187 H   0  0  0  0  0  0  0  0  0  0  0  0\\n   -4.3395   -0.7631    0.9700 H   0  0  0  0  0  0  0  0  0  0  0  0\\n   -3.0433   -0.7712   -0.7646 C   0  0  0  0  0  0  0  0  0  0  0  0\\n   -1.9891    0.1466   -0.1514 C   0  0  0  0  0  0  0  0  0  0  0  0\\n   -0.9902   -0.6049    0.7258 C   0  0  0  0  0  0  0  0  0  0  0  0\\n   -0.4424   -1.6721   -0.0178 O   0  0  0  0  0  0  0  0  0  0  0  0\\n    0.4471   -2.4947    0.7008 C   0  0  0  0  0  0  0  0  0  0  0  0\\n    1.8412   -1.8962    0.9580 C   0  0  0  0  0  0  0  0  0  0  0  0\\n    2.6885   -1.9506   -0.1710 O   0  0  0  0  0  0  0  0  0  0  0  0\\n    2.4009   -1.0044   -1.1770 C   0  0  0  0  0  0  0  0  0  0  0  0\\n    2.8672    0.4150   -0.8310 C   0  0  0  0  0  0  0  0  0  0  0  0\\n    1.9172    1.0540   -0.0093 O   0  0  0  0  0  0  0  0  0  0  0  0\\n    2.2434    2.3968    0.2840 C   0  0  0  0  0  0  0  0  0  0  0  0\\n    1.1490    2.9954    1.1526 C   0  0  0  0  0  0  0  0  0  0  0  0\\n    1.0625    2.4357    2.0809 H   0  0  0  0  0  0  0  0  0  0  0  0\\n    0.1960    2.9643    0.6305 H   0  0  0  0  0  0  0  0  0  0  0  0\\n    1.3919    4.0285    1.3851 H   0  0  0  0  0  0  0  0  0  0  0  0\\n    3.2147    2.4347    0.8035 H   0  0  0  0  0  0  0  0  0  0  0  0\\n    2.3402    2.9651   -0.6544 H   0  0  0  0  0  0  0  0  0  0  0  0\\n    3.8410    0.3662   -0.3199 H   0  0  0  0  0  0  0  0  0  0  0  0\\n    2.9952    0.9887   -1.7626 H   0  0  0  0  0  0  0  0  0  0  0  0\\n    1.3299   -0.9880   -1.4039 H   0  0  0  0  0  0  0  0  0  0  0  0\\n    2.9541   -1.3492   -2.0539 H   0  0  0  0  0  0  0  0  0  0  0  0\\n    2.3427   -2.5034    1.7161 H   0  0  0  0  0  0  0  0  0  0  0  0\\n    1.7527   -0.8677    1.3216 H   0  0  0  0  0  0  0  0  0  0  0  0\\n    0.0005   -2.7715    1.6685 H   0  0  0  0  0  0  0  0  0  0  0  0\\n    0.5618   -3.3946    0.0902 H   0  0  0  0  0  0  0  0  0  0  0  0\\n   -1.4927   -0.9929    1.6266 H   0  0  0  0  0  0  0  0  0  0  0  0\\n   -0.2052    0.0932    1.0431 H   0  0  0  0  0  0  0  0  0  0  0  0\\n   -1.3105    1.1098   -1.1425 C   0  0  0  0  0  0  0  0  0  0  0  0\\n   -1.6996    1.0781   -2.1637 H   0  0  0  0  0  0  0  0  0  0  0  0\\n   -0.2199    1.0759   -1.1548 H   0  0  0  0  0  0  0  0  0  0  0  0\\n   -1.8009    2.2492   -0.4260 O   0  0  0  0  0  0  0  0  0  0  0  0\\n   -2.5181    1.4354    0.5010 C   0  0  0  0  0  0  0  0  0  0  0  0\\n   -2.2030    1.6158    1.5329 H   0  0  0  0  0  0  0  0  0  0  0  0\\n   -3.5981    1.5880    0.4159 H   0  0  0  0  0  0  0  0  0  0  0  0\\n   -2.5281   -1.5119   -1.3780 H   0  0  0  0  0  0  0  0  0  0  0  0\\n   -3.6836   -0.1722   -1.4164 H   0  0  0  0  0  0  0  0  0  0  0  0\\n  1  2  1  0  0  0  0\\n  1  4  1  0  0  0  0\\n  3  1  1  0  0  0  0\\n  5  6  1  0  0  0  0\\n  5  1  1  0  0  0  0\\n  6 36  1  0  0  0  0\\n  6  7  1  0  0  0  0\\n  7 31  1  0  0  0  0\\n  7 30  1  0  0  0  0\\n  8  9  1  0  0  0  0\\n  8  7  1  0  0  0  0\\n  9 10  1  0  0  0  0\\n  9 28  1  0  0  0  0\\n 10 27  1  0  0  0  0\\n 10 26  1  0  0  0  0\\n 11 10  1  0  0  0  0\\n 12 13  1  0  0  0  0\\n 12 11  1  0  0  0  0\\n 13 22  1  0  0  0  0\\n 13 14  1  0  0  0  0\\n 14 15  1  0  0  0  0\\n 15 20  1  0  0  0  0\\n 15 16  1  0  0  0  0\\n 16 19  1  0  0  0  0\\n 16 17  1  0  0  0  0\\n 18 16  1  0  0  0  0\\n 21 15  1  0  0  0  0\\n 23 13  1  0  0  0  0\\n 24 12  1  0  0  0  0\\n 25 12  1  0  0  0  0\\n 29  9  1  0  0  0  0\\n 32 35  1  0  0  0  0\\n 32  6  1  0  0  0  0\\n 33 32  1  0  0  0  0\\n 34 32  1  0  0  0  0\\n 35 36  1  0  0  0  0\\n 36 37  1  0  0  0  0\\n 38 36  1  0  0  0  0\\n 39  5  1  0  0  0  0\\n 40  5  1  0  0  0  0\\nM  END\\n$$$$\\n\",\"sdf\");\n",
       "\tviewer_16333673971660516.setStyle({\"stick\": {}});\n",
       "\tviewer_16333673971660516.zoomTo();\n",
       "viewer_16333673971660516.render();\n",
       "});\n",
       "</script>"
      ]
     },
     "metadata": {},
     "output_type": "display_data"
    },
    {
     "name": "stdout",
     "output_type": "stream",
     "text": [
      "023440332_dft\n"
     ]
    },
    {
     "data": {
      "application/3dmoljs_load.v0": "<div id=\"3dmolviewer_16333673971670082\"  style=\"position: relative; width: 640px; height: 480px\">\n        <p id=\"3dmolwarning_16333673971670082\" style=\"background-color:#ffcccc;color:black\">You appear to be running in JupyterLab (or JavaScript failed to load for some other reason).  You need to install the 3dmol extension: <br>\n        <tt>jupyter labextension install jupyterlab_3dmol</tt></p>\n        </div>\n<script>\n\nvar loadScriptAsync = function(uri){\n  return new Promise((resolve, reject) => {\n    var tag = document.createElement('script');\n    tag.src = uri;\n    tag.async = true;\n    tag.onload = () => {\n      resolve();\n    };\n  var firstScriptTag = document.getElementsByTagName('script')[0];\n  firstScriptTag.parentNode.insertBefore(tag, firstScriptTag);\n});\n};\n\nif(typeof $3Dmolpromise === 'undefined') {\n$3Dmolpromise = null;\n  $3Dmolpromise = loadScriptAsync('https://3dmol.org/build/3Dmol.js');\n}\n\nvar viewer_16333673971670082 = null;\nvar warn = document.getElementById(\"3dmolwarning_16333673971670082\");\nif(warn) {\n    warn.parentNode.removeChild(warn);\n}\n$3Dmolpromise.then(function() {\nviewer_16333673971670082 = $3Dmol.createViewer($(\"#3dmolviewer_16333673971670082\"),{backgroundColor:\"white\"});\nviewer_16333673971670082.zoomTo();\n\tviewer_16333673971670082.addModel(\"[023440332_dft.out: Geometry 11]\\n OpenBabel09282115313D\\n\\n 40 40  0  0  0  0  0  0  0  0999 V2000\\n   -3.8621   -1.5361    0.2499 C   0  0  0  0  0  0  0  0  0  0  0  0\\n   -3.2450   -2.2693    0.7912 H   0  0  0  0  0  0  0  0  0  0  0  0\\n   -4.6806   -2.0898   -0.2332 H   0  0  0  0  0  0  0  0  0  0  0  0\\n   -4.3161   -0.8611    0.9945 H   0  0  0  0  0  0  0  0  0  0  0  0\\n   -3.0406   -0.7675   -0.7798 C   0  0  0  0  0  0  0  0  0  0  0  0\\n   -1.9813    0.1545   -0.1815 C   0  0  0  0  0  0  0  0  0  0  0  0\\n   -0.9964   -0.5746    0.7176 C   0  0  0  0  0  0  0  0  0  0  0  0\\n   -0.4460   -1.6579    0.0162 O   0  0  0  0  0  0  0  0  0  0  0  0\\n    0.4298   -2.4642    0.7670 C   0  0  0  0  0  0  0  0  0  0  0  0\\n    1.8191   -1.8776    0.9847 C   0  0  0  0  0  0  0  0  0  0  0  0\\n    2.6429   -1.9140   -0.1555 O   0  0  0  0  0  0  0  0  0  0  0  0\\n    2.3725   -0.9949   -1.1853 C   0  0  0  0  0  0  0  0  0  0  0  0\\n    2.8176    0.4251   -0.8905 C   0  0  0  0  0  0  0  0  0  0  0  0\\n    1.9229    1.0450   -0.0035 O   0  0  0  0  0  0  0  0  0  0  0  0\\n    2.2460    2.3794    0.3024 C   0  0  0  0  0  0  0  0  0  0  0  0\\n    1.1853    2.9494    1.2190 C   0  0  0  0  0  0  0  0  0  0  0  0\\n    1.1325    2.3691    2.1529 H   0  0  0  0  0  0  0  0  0  0  0  0\\n    0.1993    2.9251    0.7293 H   0  0  0  0  0  0  0  0  0  0  0  0\\n    1.4229    3.9919    1.4771 H   0  0  0  0  0  0  0  0  0  0  0  0\\n    3.2472    2.4239    0.7770 H   0  0  0  0  0  0  0  0  0  0  0  0\\n    2.3087    2.9733   -0.6323 H   0  0  0  0  0  0  0  0  0  0  0  0\\n    3.8417    0.4085   -0.4663 H   0  0  0  0  0  0  0  0  0  0  0  0\\n    2.8626    0.9918   -1.8441 H   0  0  0  0  0  0  0  0  0  0  0  0\\n    1.3024   -0.9934   -1.4546 H   0  0  0  0  0  0  0  0  0  0  0  0\\n    2.9407   -1.3519   -2.0579 H   0  0  0  0  0  0  0  0  0  0  0  0\\n    2.3279   -2.5005    1.7376 H   0  0  0  0  0  0  0  0  0  0  0  0\\n    1.7483   -0.8553    1.3940 H   0  0  0  0  0  0  0  0  0  0  0  0\\n   -0.0197   -2.6877    1.7565 H   0  0  0  0  0  0  0  0  0  0  0  0\\n    0.5288   -3.4145    0.2199 H   0  0  0  0  0  0  0  0  0  0  0  0\\n   -1.5126   -0.9371    1.6319 H   0  0  0  0  0  0  0  0  0  0  0  0\\n   -0.2120    0.1357    1.0389 H   0  0  0  0  0  0  0  0  0  0  0  0\\n   -1.3008    1.1131   -1.1800 C   0  0  0  0  0  0  0  0  0  0  0  0\\n   -1.7148    1.0849   -2.2032 H   0  0  0  0  0  0  0  0  0  0  0  0\\n   -0.2015    1.0527   -1.2193 H   0  0  0  0  0  0  0  0  0  0  0  0\\n   -1.7463    2.2645   -0.4539 O   0  0  0  0  0  0  0  0  0  0  0  0\\n   -2.4878    1.4624    0.4612 C   0  0  0  0  0  0  0  0  0  0  0  0\\n   -2.1865    1.6378    1.5104 H   0  0  0  0  0  0  0  0  0  0  0  0\\n   -3.5773    1.6289    0.3762 H   0  0  0  0  0  0  0  0  0  0  0  0\\n   -2.5339   -1.4772   -1.4538 H   0  0  0  0  0  0  0  0  0  0  0  0\\n   -3.7094   -0.1564   -1.4101 H   0  0  0  0  0  0  0  0  0  0  0  0\\n  1  2  1  0  0  0  0\\n  1  4  1  0  0  0  0\\n  3  1  1  0  0  0  0\\n  5  6  1  0  0  0  0\\n  5  1  1  0  0  0  0\\n  6 36  1  0  0  0  0\\n  6  7  1  0  0  0  0\\n  7 31  1  0  0  0  0\\n  7 30  1  0  0  0  0\\n  8  7  1  0  0  0  0\\n  8  9  1  0  0  0  0\\n  9 10  1  0  0  0  0\\n  9 28  1  0  0  0  0\\n 10 27  1  0  0  0  0\\n 10 26  1  0  0  0  0\\n 11 10  1  0  0  0  0\\n 12 13  1  0  0  0  0\\n 12 11  1  0  0  0  0\\n 13 22  1  0  0  0  0\\n 13 14  1  0  0  0  0\\n 14 15  1  0  0  0  0\\n 15 20  1  0  0  0  0\\n 15 16  1  0  0  0  0\\n 16 19  1  0  0  0  0\\n 16 17  1  0  0  0  0\\n 18 16  1  0  0  0  0\\n 21 15  1  0  0  0  0\\n 23 13  1  0  0  0  0\\n 24 12  1  0  0  0  0\\n 25 12  1  0  0  0  0\\n 29  9  1  0  0  0  0\\n 32 35  1  0  0  0  0\\n 32  6  1  0  0  0  0\\n 33 32  1  0  0  0  0\\n 34 32  1  0  0  0  0\\n 35 36  1  0  0  0  0\\n 36 37  1  0  0  0  0\\n 38 36  1  0  0  0  0\\n 39  5  1  0  0  0  0\\n 40  5  1  0  0  0  0\\nM  END\\n$$$$\\n\",\"sdf\");\n\tviewer_16333673971670082.setStyle({\"stick\": {}});\n\tviewer_16333673971670082.zoomTo();\nviewer_16333673971670082.render();\n});\n</script>",
      "text/html": [
       "<div id=\"3dmolviewer_16333673971670082\"  style=\"position: relative; width: 640px; height: 480px\">\n",
       "        <p id=\"3dmolwarning_16333673971670082\" style=\"background-color:#ffcccc;color:black\">You appear to be running in JupyterLab (or JavaScript failed to load for some other reason).  You need to install the 3dmol extension: <br>\n",
       "        <tt>jupyter labextension install jupyterlab_3dmol</tt></p>\n",
       "        </div>\n",
       "<script>\n",
       "\n",
       "var loadScriptAsync = function(uri){\n",
       "  return new Promise((resolve, reject) => {\n",
       "    var tag = document.createElement('script');\n",
       "    tag.src = uri;\n",
       "    tag.async = true;\n",
       "    tag.onload = () => {\n",
       "      resolve();\n",
       "    };\n",
       "  var firstScriptTag = document.getElementsByTagName('script')[0];\n",
       "  firstScriptTag.parentNode.insertBefore(tag, firstScriptTag);\n",
       "});\n",
       "};\n",
       "\n",
       "if(typeof $3Dmolpromise === 'undefined') {\n",
       "$3Dmolpromise = null;\n",
       "  $3Dmolpromise = loadScriptAsync('https://3dmol.org/build/3Dmol.js');\n",
       "}\n",
       "\n",
       "var viewer_16333673971670082 = null;\n",
       "var warn = document.getElementById(\"3dmolwarning_16333673971670082\");\n",
       "if(warn) {\n",
       "    warn.parentNode.removeChild(warn);\n",
       "}\n",
       "$3Dmolpromise.then(function() {\n",
       "viewer_16333673971670082 = $3Dmol.createViewer($(\"#3dmolviewer_16333673971670082\"),{backgroundColor:\"white\"});\n",
       "viewer_16333673971670082.zoomTo();\n",
       "\tviewer_16333673971670082.addModel(\"[023440332_dft.out: Geometry 11]\\n OpenBabel09282115313D\\n\\n 40 40  0  0  0  0  0  0  0  0999 V2000\\n   -3.8621   -1.5361    0.2499 C   0  0  0  0  0  0  0  0  0  0  0  0\\n   -3.2450   -2.2693    0.7912 H   0  0  0  0  0  0  0  0  0  0  0  0\\n   -4.6806   -2.0898   -0.2332 H   0  0  0  0  0  0  0  0  0  0  0  0\\n   -4.3161   -0.8611    0.9945 H   0  0  0  0  0  0  0  0  0  0  0  0\\n   -3.0406   -0.7675   -0.7798 C   0  0  0  0  0  0  0  0  0  0  0  0\\n   -1.9813    0.1545   -0.1815 C   0  0  0  0  0  0  0  0  0  0  0  0\\n   -0.9964   -0.5746    0.7176 C   0  0  0  0  0  0  0  0  0  0  0  0\\n   -0.4460   -1.6579    0.0162 O   0  0  0  0  0  0  0  0  0  0  0  0\\n    0.4298   -2.4642    0.7670 C   0  0  0  0  0  0  0  0  0  0  0  0\\n    1.8191   -1.8776    0.9847 C   0  0  0  0  0  0  0  0  0  0  0  0\\n    2.6429   -1.9140   -0.1555 O   0  0  0  0  0  0  0  0  0  0  0  0\\n    2.3725   -0.9949   -1.1853 C   0  0  0  0  0  0  0  0  0  0  0  0\\n    2.8176    0.4251   -0.8905 C   0  0  0  0  0  0  0  0  0  0  0  0\\n    1.9229    1.0450   -0.0035 O   0  0  0  0  0  0  0  0  0  0  0  0\\n    2.2460    2.3794    0.3024 C   0  0  0  0  0  0  0  0  0  0  0  0\\n    1.1853    2.9494    1.2190 C   0  0  0  0  0  0  0  0  0  0  0  0\\n    1.1325    2.3691    2.1529 H   0  0  0  0  0  0  0  0  0  0  0  0\\n    0.1993    2.9251    0.7293 H   0  0  0  0  0  0  0  0  0  0  0  0\\n    1.4229    3.9919    1.4771 H   0  0  0  0  0  0  0  0  0  0  0  0\\n    3.2472    2.4239    0.7770 H   0  0  0  0  0  0  0  0  0  0  0  0\\n    2.3087    2.9733   -0.6323 H   0  0  0  0  0  0  0  0  0  0  0  0\\n    3.8417    0.4085   -0.4663 H   0  0  0  0  0  0  0  0  0  0  0  0\\n    2.8626    0.9918   -1.8441 H   0  0  0  0  0  0  0  0  0  0  0  0\\n    1.3024   -0.9934   -1.4546 H   0  0  0  0  0  0  0  0  0  0  0  0\\n    2.9407   -1.3519   -2.0579 H   0  0  0  0  0  0  0  0  0  0  0  0\\n    2.3279   -2.5005    1.7376 H   0  0  0  0  0  0  0  0  0  0  0  0\\n    1.7483   -0.8553    1.3940 H   0  0  0  0  0  0  0  0  0  0  0  0\\n   -0.0197   -2.6877    1.7565 H   0  0  0  0  0  0  0  0  0  0  0  0\\n    0.5288   -3.4145    0.2199 H   0  0  0  0  0  0  0  0  0  0  0  0\\n   -1.5126   -0.9371    1.6319 H   0  0  0  0  0  0  0  0  0  0  0  0\\n   -0.2120    0.1357    1.0389 H   0  0  0  0  0  0  0  0  0  0  0  0\\n   -1.3008    1.1131   -1.1800 C   0  0  0  0  0  0  0  0  0  0  0  0\\n   -1.7148    1.0849   -2.2032 H   0  0  0  0  0  0  0  0  0  0  0  0\\n   -0.2015    1.0527   -1.2193 H   0  0  0  0  0  0  0  0  0  0  0  0\\n   -1.7463    2.2645   -0.4539 O   0  0  0  0  0  0  0  0  0  0  0  0\\n   -2.4878    1.4624    0.4612 C   0  0  0  0  0  0  0  0  0  0  0  0\\n   -2.1865    1.6378    1.5104 H   0  0  0  0  0  0  0  0  0  0  0  0\\n   -3.5773    1.6289    0.3762 H   0  0  0  0  0  0  0  0  0  0  0  0\\n   -2.5339   -1.4772   -1.4538 H   0  0  0  0  0  0  0  0  0  0  0  0\\n   -3.7094   -0.1564   -1.4101 H   0  0  0  0  0  0  0  0  0  0  0  0\\n  1  2  1  0  0  0  0\\n  1  4  1  0  0  0  0\\n  3  1  1  0  0  0  0\\n  5  6  1  0  0  0  0\\n  5  1  1  0  0  0  0\\n  6 36  1  0  0  0  0\\n  6  7  1  0  0  0  0\\n  7 31  1  0  0  0  0\\n  7 30  1  0  0  0  0\\n  8  7  1  0  0  0  0\\n  8  9  1  0  0  0  0\\n  9 10  1  0  0  0  0\\n  9 28  1  0  0  0  0\\n 10 27  1  0  0  0  0\\n 10 26  1  0  0  0  0\\n 11 10  1  0  0  0  0\\n 12 13  1  0  0  0  0\\n 12 11  1  0  0  0  0\\n 13 22  1  0  0  0  0\\n 13 14  1  0  0  0  0\\n 14 15  1  0  0  0  0\\n 15 20  1  0  0  0  0\\n 15 16  1  0  0  0  0\\n 16 19  1  0  0  0  0\\n 16 17  1  0  0  0  0\\n 18 16  1  0  0  0  0\\n 21 15  1  0  0  0  0\\n 23 13  1  0  0  0  0\\n 24 12  1  0  0  0  0\\n 25 12  1  0  0  0  0\\n 29  9  1  0  0  0  0\\n 32 35  1  0  0  0  0\\n 32  6  1  0  0  0  0\\n 33 32  1  0  0  0  0\\n 34 32  1  0  0  0  0\\n 35 36  1  0  0  0  0\\n 36 37  1  0  0  0  0\\n 38 36  1  0  0  0  0\\n 39  5  1  0  0  0  0\\n 40  5  1  0  0  0  0\\nM  END\\n$$$$\\n\",\"sdf\");\n",
       "\tviewer_16333673971670082.setStyle({\"stick\": {}});\n",
       "\tviewer_16333673971670082.zoomTo();\n",
       "viewer_16333673971670082.render();\n",
       "});\n",
       "</script>"
      ]
     },
     "metadata": {},
     "output_type": "display_data"
    },
    {
     "name": "stdout",
     "output_type": "stream",
     "text": [
      "023514586\n"
     ]
    },
    {
     "data": {
      "application/3dmoljs_load.v0": "<div id=\"3dmolviewer_1633367397167754\"  style=\"position: relative; width: 640px; height: 480px\">\n        <p id=\"3dmolwarning_1633367397167754\" style=\"background-color:#ffcccc;color:black\">You appear to be running in JupyterLab (or JavaScript failed to load for some other reason).  You need to install the 3dmol extension: <br>\n        <tt>jupyter labextension install jupyterlab_3dmol</tt></p>\n        </div>\n<script>\n\nvar loadScriptAsync = function(uri){\n  return new Promise((resolve, reject) => {\n    var tag = document.createElement('script');\n    tag.src = uri;\n    tag.async = true;\n    tag.onload = () => {\n      resolve();\n    };\n  var firstScriptTag = document.getElementsByTagName('script')[0];\n  firstScriptTag.parentNode.insertBefore(tag, firstScriptTag);\n});\n};\n\nif(typeof $3Dmolpromise === 'undefined') {\n$3Dmolpromise = null;\n  $3Dmolpromise = loadScriptAsync('https://3dmol.org/build/3Dmol.js');\n}\n\nvar viewer_1633367397167754 = null;\nvar warn = document.getElementById(\"3dmolwarning_1633367397167754\");\nif(warn) {\n    warn.parentNode.removeChild(warn);\n}\n$3Dmolpromise.then(function() {\nviewer_1633367397167754 = $3Dmol.createViewer($(\"#3dmolviewer_1633367397167754\"),{backgroundColor:\"white\"});\nviewer_1633367397167754.zoomTo();\n\tviewer_1633367397167754.addModel(\"-47.00816256\\n OpenBabel09032121023D\\n\\n 36 35  0  0  0  0  0  0  0  0999 V2000\\n    2.0569    1.6462    1.2724 C   0  0  0  0  0  0  0  0  0  0  0  0\\n    3.0859    1.4758    1.5803 H   0  0  0  0  0  0  0  0  0  0  0  0\\n    1.8436    2.7105    1.3278 H   0  0  0  0  0  0  0  0  0  0  0  0\\n    1.3888    1.1278    1.9561 H   0  0  0  0  0  0  0  0  0  0  0  0\\n    1.8581    1.1599   -0.1640 C   0  0  0  0  0  0  0  0  0  0  0  0\\n    2.5900    2.0623   -1.1542 C   0  0  0  0  0  0  0  0  0  0  0  0\\n    3.6489    2.0842   -0.9125 H   0  0  0  0  0  0  0  0  0  0  0  0\\n    2.1907    3.0718   -1.1127 H   0  0  0  0  0  0  0  0  0  0  0  0\\n    2.4761    1.6737   -2.1625 H   0  0  0  0  0  0  0  0  0  0  0  0\\n    2.3725   -0.1456   -0.3848 O   0  0  0  0  0  0  0  0  0  0  0  0\\n    1.7843   -1.2043    0.3226 C   0  0  0  0  0  0  0  0  0  0  0  0\\n    0.3466   -1.5726   -0.1206 C   0  0  0  0  0  0  0  0  0  0  0  0\\n   -0.6315   -0.5826    0.5010 C   0  0  0  0  0  0  0  0  0  0  0  0\\n   -0.5922   -0.2578    1.6638 O   0  0  0  0  0  0  0  0  0  0  0  0\\n   -1.5660   -0.1695   -0.3507 O   0  0  0  0  0  0  0  0  0  0  0  0\\n   -2.5811    0.7159    0.1525 C   0  0  0  0  0  0  0  0  0  0  0  0\\n   -2.0681    2.1520    0.1479 C   0  0  0  0  0  0  0  0  0  0  0  0\\n   -1.2125    2.2445    0.8126 H   0  0  0  0  0  0  0  0  0  0  0  0\\n   -1.7701    2.4388   -0.8584 H   0  0  0  0  0  0  0  0  0  0  0  0\\n   -2.8508    2.8225    0.4914 H   0  0  0  0  0  0  0  0  0  0  0  0\\n   -3.8017    0.5378   -0.7383 C   0  0  0  0  0  0  0  0  0  0  0  0\\n   -4.6145    1.1620   -0.3788 H   0  0  0  0  0  0  0  0  0  0  0  0\\n   -4.1243   -0.5001   -0.7332 H   0  0  0  0  0  0  0  0  0  0  0  0\\n   -3.5585    0.8212   -1.7591 H   0  0  0  0  0  0  0  0  0  0  0  0\\n   -2.8062    0.4139    1.1839 H   0  0  0  0  0  0  0  0  0  0  0  0\\n    0.2487   -1.6268   -1.6421 C   0  0  0  0  0  0  0  0  0  0  0  0\\n    0.9479   -2.3684   -2.0216 H   0  0  0  0  0  0  0  0  0  0  0  0\\n   -0.7573   -1.8956   -1.9524 H   0  0  0  0  0  0  0  0  0  0  0  0\\n    0.5028   -0.6650   -2.0782 H   0  0  0  0  0  0  0  0  0  0  0  0\\n   -0.0111   -2.9367    0.4870 C   0  0  0  0  0  0  0  0  0  0  0  0\\n    0.0529   -2.8943    1.5719 H   0  0  0  0  0  0  0  0  0  0  0  0\\n    0.6734   -3.6992    0.1231 H   0  0  0  0  0  0  0  0  0  0  0  0\\n   -1.0246   -3.2181    0.2085 H   0  0  0  0  0  0  0  0  0  0  0  0\\n    1.7771   -1.0151    1.4032 H   0  0  0  0  0  0  0  0  0  0  0  0\\n    2.4393   -2.0564    0.1210 H   0  0  0  0  0  0  0  0  0  0  0  0\\n    0.7814    1.1728   -0.3979 H   0  0  0  0  0  0  0  0  0  0  0  0\\n  1  3  1  0  0  0  0\\n  1  2  1  0  0  0  0\\n  1  4  1  0  0  0  0\\n  5  1  1  0  0  0  0\\n  6  8  1  0  0  0  0\\n  6  7  1  0  0  0  0\\n  6  5  1  0  0  0  0\\n  9  6  1  0  0  0  0\\n 10  5  1  0  0  0  0\\n 10 11  1  0  0  0  0\\n 11 34  1  0  0  0  0\\n 12 11  1  0  0  0  0\\n 12 30  1  0  0  0  0\\n 12 13  1  0  0  0  0\\n 13 14  2  0  0  0  0\\n 15 16  1  0  0  0  0\\n 15 13  1  0  0  0  0\\n 16 25  1  0  0  0  0\\n 17 16  1  0  0  0  0\\n 17 20  1  0  0  0  0\\n 17 18  1  0  0  0  0\\n 19 17  1  0  0  0  0\\n 21 23  1  0  0  0  0\\n 21 22  1  0  0  0  0\\n 21 16  1  0  0  0  0\\n 24 21  1  0  0  0  0\\n 26 12  1  0  0  0  0\\n 27 26  1  0  0  0  0\\n 28 26  1  0  0  0  0\\n 29 26  1  0  0  0  0\\n 30 31  1  0  0  0  0\\n 32 30  1  0  0  0  0\\n 33 30  1  0  0  0  0\\n 35 11  1  0  0  0  0\\n 36  5  1  0  0  0  0\\nM  END\\n$$$$\\n\",\"sdf\");\n\tviewer_1633367397167754.setStyle({\"stick\": {}});\n\tviewer_1633367397167754.zoomTo();\nviewer_1633367397167754.render();\n});\n</script>",
      "text/html": [
       "<div id=\"3dmolviewer_1633367397167754\"  style=\"position: relative; width: 640px; height: 480px\">\n",
       "        <p id=\"3dmolwarning_1633367397167754\" style=\"background-color:#ffcccc;color:black\">You appear to be running in JupyterLab (or JavaScript failed to load for some other reason).  You need to install the 3dmol extension: <br>\n",
       "        <tt>jupyter labextension install jupyterlab_3dmol</tt></p>\n",
       "        </div>\n",
       "<script>\n",
       "\n",
       "var loadScriptAsync = function(uri){\n",
       "  return new Promise((resolve, reject) => {\n",
       "    var tag = document.createElement('script');\n",
       "    tag.src = uri;\n",
       "    tag.async = true;\n",
       "    tag.onload = () => {\n",
       "      resolve();\n",
       "    };\n",
       "  var firstScriptTag = document.getElementsByTagName('script')[0];\n",
       "  firstScriptTag.parentNode.insertBefore(tag, firstScriptTag);\n",
       "});\n",
       "};\n",
       "\n",
       "if(typeof $3Dmolpromise === 'undefined') {\n",
       "$3Dmolpromise = null;\n",
       "  $3Dmolpromise = loadScriptAsync('https://3dmol.org/build/3Dmol.js');\n",
       "}\n",
       "\n",
       "var viewer_1633367397167754 = null;\n",
       "var warn = document.getElementById(\"3dmolwarning_1633367397167754\");\n",
       "if(warn) {\n",
       "    warn.parentNode.removeChild(warn);\n",
       "}\n",
       "$3Dmolpromise.then(function() {\n",
       "viewer_1633367397167754 = $3Dmol.createViewer($(\"#3dmolviewer_1633367397167754\"),{backgroundColor:\"white\"});\n",
       "viewer_1633367397167754.zoomTo();\n",
       "\tviewer_1633367397167754.addModel(\"-47.00816256\\n OpenBabel09032121023D\\n\\n 36 35  0  0  0  0  0  0  0  0999 V2000\\n    2.0569    1.6462    1.2724 C   0  0  0  0  0  0  0  0  0  0  0  0\\n    3.0859    1.4758    1.5803 H   0  0  0  0  0  0  0  0  0  0  0  0\\n    1.8436    2.7105    1.3278 H   0  0  0  0  0  0  0  0  0  0  0  0\\n    1.3888    1.1278    1.9561 H   0  0  0  0  0  0  0  0  0  0  0  0\\n    1.8581    1.1599   -0.1640 C   0  0  0  0  0  0  0  0  0  0  0  0\\n    2.5900    2.0623   -1.1542 C   0  0  0  0  0  0  0  0  0  0  0  0\\n    3.6489    2.0842   -0.9125 H   0  0  0  0  0  0  0  0  0  0  0  0\\n    2.1907    3.0718   -1.1127 H   0  0  0  0  0  0  0  0  0  0  0  0\\n    2.4761    1.6737   -2.1625 H   0  0  0  0  0  0  0  0  0  0  0  0\\n    2.3725   -0.1456   -0.3848 O   0  0  0  0  0  0  0  0  0  0  0  0\\n    1.7843   -1.2043    0.3226 C   0  0  0  0  0  0  0  0  0  0  0  0\\n    0.3466   -1.5726   -0.1206 C   0  0  0  0  0  0  0  0  0  0  0  0\\n   -0.6315   -0.5826    0.5010 C   0  0  0  0  0  0  0  0  0  0  0  0\\n   -0.5922   -0.2578    1.6638 O   0  0  0  0  0  0  0  0  0  0  0  0\\n   -1.5660   -0.1695   -0.3507 O   0  0  0  0  0  0  0  0  0  0  0  0\\n   -2.5811    0.7159    0.1525 C   0  0  0  0  0  0  0  0  0  0  0  0\\n   -2.0681    2.1520    0.1479 C   0  0  0  0  0  0  0  0  0  0  0  0\\n   -1.2125    2.2445    0.8126 H   0  0  0  0  0  0  0  0  0  0  0  0\\n   -1.7701    2.4388   -0.8584 H   0  0  0  0  0  0  0  0  0  0  0  0\\n   -2.8508    2.8225    0.4914 H   0  0  0  0  0  0  0  0  0  0  0  0\\n   -3.8017    0.5378   -0.7383 C   0  0  0  0  0  0  0  0  0  0  0  0\\n   -4.6145    1.1620   -0.3788 H   0  0  0  0  0  0  0  0  0  0  0  0\\n   -4.1243   -0.5001   -0.7332 H   0  0  0  0  0  0  0  0  0  0  0  0\\n   -3.5585    0.8212   -1.7591 H   0  0  0  0  0  0  0  0  0  0  0  0\\n   -2.8062    0.4139    1.1839 H   0  0  0  0  0  0  0  0  0  0  0  0\\n    0.2487   -1.6268   -1.6421 C   0  0  0  0  0  0  0  0  0  0  0  0\\n    0.9479   -2.3684   -2.0216 H   0  0  0  0  0  0  0  0  0  0  0  0\\n   -0.7573   -1.8956   -1.9524 H   0  0  0  0  0  0  0  0  0  0  0  0\\n    0.5028   -0.6650   -2.0782 H   0  0  0  0  0  0  0  0  0  0  0  0\\n   -0.0111   -2.9367    0.4870 C   0  0  0  0  0  0  0  0  0  0  0  0\\n    0.0529   -2.8943    1.5719 H   0  0  0  0  0  0  0  0  0  0  0  0\\n    0.6734   -3.6992    0.1231 H   0  0  0  0  0  0  0  0  0  0  0  0\\n   -1.0246   -3.2181    0.2085 H   0  0  0  0  0  0  0  0  0  0  0  0\\n    1.7771   -1.0151    1.4032 H   0  0  0  0  0  0  0  0  0  0  0  0\\n    2.4393   -2.0564    0.1210 H   0  0  0  0  0  0  0  0  0  0  0  0\\n    0.7814    1.1728   -0.3979 H   0  0  0  0  0  0  0  0  0  0  0  0\\n  1  3  1  0  0  0  0\\n  1  2  1  0  0  0  0\\n  1  4  1  0  0  0  0\\n  5  1  1  0  0  0  0\\n  6  8  1  0  0  0  0\\n  6  7  1  0  0  0  0\\n  6  5  1  0  0  0  0\\n  9  6  1  0  0  0  0\\n 10  5  1  0  0  0  0\\n 10 11  1  0  0  0  0\\n 11 34  1  0  0  0  0\\n 12 11  1  0  0  0  0\\n 12 30  1  0  0  0  0\\n 12 13  1  0  0  0  0\\n 13 14  2  0  0  0  0\\n 15 16  1  0  0  0  0\\n 15 13  1  0  0  0  0\\n 16 25  1  0  0  0  0\\n 17 16  1  0  0  0  0\\n 17 20  1  0  0  0  0\\n 17 18  1  0  0  0  0\\n 19 17  1  0  0  0  0\\n 21 23  1  0  0  0  0\\n 21 22  1  0  0  0  0\\n 21 16  1  0  0  0  0\\n 24 21  1  0  0  0  0\\n 26 12  1  0  0  0  0\\n 27 26  1  0  0  0  0\\n 28 26  1  0  0  0  0\\n 29 26  1  0  0  0  0\\n 30 31  1  0  0  0  0\\n 32 30  1  0  0  0  0\\n 33 30  1  0  0  0  0\\n 35 11  1  0  0  0  0\\n 36  5  1  0  0  0  0\\nM  END\\n$$$$\\n\",\"sdf\");\n",
       "\tviewer_1633367397167754.setStyle({\"stick\": {}});\n",
       "\tviewer_1633367397167754.zoomTo();\n",
       "viewer_1633367397167754.render();\n",
       "});\n",
       "</script>"
      ]
     },
     "metadata": {},
     "output_type": "display_data"
    },
    {
     "name": "stdout",
     "output_type": "stream",
     "text": [
      "023514586_dft\n"
     ]
    },
    {
     "data": {
      "application/3dmoljs_load.v0": "<div id=\"3dmolviewer_1633367397168645\"  style=\"position: relative; width: 640px; height: 480px\">\n        <p id=\"3dmolwarning_1633367397168645\" style=\"background-color:#ffcccc;color:black\">You appear to be running in JupyterLab (or JavaScript failed to load for some other reason).  You need to install the 3dmol extension: <br>\n        <tt>jupyter labextension install jupyterlab_3dmol</tt></p>\n        </div>\n<script>\n\nvar loadScriptAsync = function(uri){\n  return new Promise((resolve, reject) => {\n    var tag = document.createElement('script');\n    tag.src = uri;\n    tag.async = true;\n    tag.onload = () => {\n      resolve();\n    };\n  var firstScriptTag = document.getElementsByTagName('script')[0];\n  firstScriptTag.parentNode.insertBefore(tag, firstScriptTag);\n});\n};\n\nif(typeof $3Dmolpromise === 'undefined') {\n$3Dmolpromise = null;\n  $3Dmolpromise = loadScriptAsync('https://3dmol.org/build/3Dmol.js');\n}\n\nvar viewer_1633367397168645 = null;\nvar warn = document.getElementById(\"3dmolwarning_1633367397168645\");\nif(warn) {\n    warn.parentNode.removeChild(warn);\n}\n$3Dmolpromise.then(function() {\nviewer_1633367397168645 = $3Dmol.createViewer($(\"#3dmolviewer_1633367397168645\"),{backgroundColor:\"white\"});\nviewer_1633367397168645.zoomTo();\n\tviewer_1633367397168645.addModel(\"[023514586_dft.out: Geometry 10]\\n OpenBabel09282115313D\\n\\n 36 35  0  0  0  0  0  0  0  0999 V2000\\n    1.9878    1.6810    1.2278 C   0  0  0  0  0  0  0  0  0  0  0  0\\n    3.0499    1.6545    1.5176 H   0  0  0  0  0  0  0  0  0  0  0  0\\n    1.6385    2.7227    1.2923 H   0  0  0  0  0  0  0  0  0  0  0  0\\n    1.4058    1.0940    1.9526 H   0  0  0  0  0  0  0  0  0  0  0  0\\n    1.8181    1.1600   -0.1951 C   0  0  0  0  0  0  0  0  0  0  0  0\\n    2.5229    2.0330   -1.2196 C   0  0  0  0  0  0  0  0  0  0  0  0\\n    3.6017    2.0739   -1.0042 H   0  0  0  0  0  0  0  0  0  0  0  0\\n    2.1230    3.0575   -1.2060 H   0  0  0  0  0  0  0  0  0  0  0  0\\n    2.3918    1.6158   -2.2284 H   0  0  0  0  0  0  0  0  0  0  0  0\\n    2.3499   -0.1418   -0.3670 O   0  0  0  0  0  0  0  0  0  0  0  0\\n    1.7719   -1.1960    0.3462 C   0  0  0  0  0  0  0  0  0  0  0  0\\n    0.3457   -1.5975   -0.1010 C   0  0  0  0  0  0  0  0  0  0  0  0\\n   -0.6648   -0.6369    0.5275 C   0  0  0  0  0  0  0  0  0  0  0  0\\n   -0.6791   -0.3685    1.7047 O   0  0  0  0  0  0  0  0  0  0  0  0\\n   -1.5541   -0.1557   -0.3430 O   0  0  0  0  0  0  0  0  0  0  0  0\\n   -2.5717    0.7364    0.1512 C   0  0  0  0  0  0  0  0  0  0  0  0\\n   -2.0032    2.1392    0.2889 C   0  0  0  0  0  0  0  0  0  0  0  0\\n   -1.1773    2.1518    1.0136 H   0  0  0  0  0  0  0  0  0  0  0  0\\n   -1.6351    2.5053   -0.6822 H   0  0  0  0  0  0  0  0  0  0  0  0\\n   -2.7805    2.8303    0.6471 H   0  0  0  0  0  0  0  0  0  0  0  0\\n   -3.7256    0.6409   -0.8281 C   0  0  0  0  0  0  0  0  0  0  0  0\\n   -4.5580    1.2806   -0.5008 H   0  0  0  0  0  0  0  0  0  0  0  0\\n   -4.0905   -0.3935   -0.8984 H   0  0  0  0  0  0  0  0  0  0  0  0\\n   -3.4104    0.9656   -1.8312 H   0  0  0  0  0  0  0  0  0  0  0  0\\n   -2.8768    0.3713    1.1445 H   0  0  0  0  0  0  0  0  0  0  0  0\\n    0.2545   -1.6542   -1.6253 C   0  0  0  0  0  0  0  0  0  0  0  0\\n    1.0193   -2.3426   -2.0164 H   0  0  0  0  0  0  0  0  0  0  0  0\\n   -0.7331   -2.0097   -1.9508 H   0  0  0  0  0  0  0  0  0  0  0  0\\n    0.4267   -0.6702   -2.0814 H   0  0  0  0  0  0  0  0  0  0  0  0\\n    0.0391   -2.9751    0.5134 C   0  0  0  0  0  0  0  0  0  0  0  0\\n    0.1399   -2.9473    1.6084 H   0  0  0  0  0  0  0  0  0  0  0  0\\n    0.7295   -3.7332    0.1133 H   0  0  0  0  0  0  0  0  0  0  0  0\\n   -0.9876   -3.2912    0.2730 H   0  0  0  0  0  0  0  0  0  0  0  0\\n    1.7576   -1.0063    1.4352 H   0  0  0  0  0  0  0  0  0  0  0  0\\n    2.4322   -2.0596    0.1700 H   0  0  0  0  0  0  0  0  0  0  0  0\\n    0.7374    1.1508   -0.4432 H   0  0  0  0  0  0  0  0  0  0  0  0\\n  1  3  1  0  0  0  0\\n  1  2  1  0  0  0  0\\n  1  4  1  0  0  0  0\\n  5  1  1  0  0  0  0\\n  6  8  1  0  0  0  0\\n  6  7  1  0  0  0  0\\n  6  5  1  0  0  0  0\\n  9  6  1  0  0  0  0\\n 10  5  1  0  0  0  0\\n 10 11  1  0  0  0  0\\n 11 34  1  0  0  0  0\\n 12 11  1  0  0  0  0\\n 12 30  1  0  0  0  0\\n 12 13  1  0  0  0  0\\n 13 14  2  0  0  0  0\\n 15 16  1  0  0  0  0\\n 15 13  1  0  0  0  0\\n 16 17  1  0  0  0  0\\n 16 25  1  0  0  0  0\\n 17 20  1  0  0  0  0\\n 17 18  1  0  0  0  0\\n 19 17  1  0  0  0  0\\n 21 22  1  0  0  0  0\\n 21 16  1  0  0  0  0\\n 23 21  1  0  0  0  0\\n 24 21  1  0  0  0  0\\n 26 12  1  0  0  0  0\\n 27 26  1  0  0  0  0\\n 28 26  1  0  0  0  0\\n 29 26  1  0  0  0  0\\n 30 31  1  0  0  0  0\\n 32 30  1  0  0  0  0\\n 33 30  1  0  0  0  0\\n 35 11  1  0  0  0  0\\n 36  5  1  0  0  0  0\\nM  END\\n$$$$\\n\",\"sdf\");\n\tviewer_1633367397168645.setStyle({\"stick\": {}});\n\tviewer_1633367397168645.zoomTo();\nviewer_1633367397168645.render();\n});\n</script>",
      "text/html": [
       "<div id=\"3dmolviewer_1633367397168645\"  style=\"position: relative; width: 640px; height: 480px\">\n",
       "        <p id=\"3dmolwarning_1633367397168645\" style=\"background-color:#ffcccc;color:black\">You appear to be running in JupyterLab (or JavaScript failed to load for some other reason).  You need to install the 3dmol extension: <br>\n",
       "        <tt>jupyter labextension install jupyterlab_3dmol</tt></p>\n",
       "        </div>\n",
       "<script>\n",
       "\n",
       "var loadScriptAsync = function(uri){\n",
       "  return new Promise((resolve, reject) => {\n",
       "    var tag = document.createElement('script');\n",
       "    tag.src = uri;\n",
       "    tag.async = true;\n",
       "    tag.onload = () => {\n",
       "      resolve();\n",
       "    };\n",
       "  var firstScriptTag = document.getElementsByTagName('script')[0];\n",
       "  firstScriptTag.parentNode.insertBefore(tag, firstScriptTag);\n",
       "});\n",
       "};\n",
       "\n",
       "if(typeof $3Dmolpromise === 'undefined') {\n",
       "$3Dmolpromise = null;\n",
       "  $3Dmolpromise = loadScriptAsync('https://3dmol.org/build/3Dmol.js');\n",
       "}\n",
       "\n",
       "var viewer_1633367397168645 = null;\n",
       "var warn = document.getElementById(\"3dmolwarning_1633367397168645\");\n",
       "if(warn) {\n",
       "    warn.parentNode.removeChild(warn);\n",
       "}\n",
       "$3Dmolpromise.then(function() {\n",
       "viewer_1633367397168645 = $3Dmol.createViewer($(\"#3dmolviewer_1633367397168645\"),{backgroundColor:\"white\"});\n",
       "viewer_1633367397168645.zoomTo();\n",
       "\tviewer_1633367397168645.addModel(\"[023514586_dft.out: Geometry 10]\\n OpenBabel09282115313D\\n\\n 36 35  0  0  0  0  0  0  0  0999 V2000\\n    1.9878    1.6810    1.2278 C   0  0  0  0  0  0  0  0  0  0  0  0\\n    3.0499    1.6545    1.5176 H   0  0  0  0  0  0  0  0  0  0  0  0\\n    1.6385    2.7227    1.2923 H   0  0  0  0  0  0  0  0  0  0  0  0\\n    1.4058    1.0940    1.9526 H   0  0  0  0  0  0  0  0  0  0  0  0\\n    1.8181    1.1600   -0.1951 C   0  0  0  0  0  0  0  0  0  0  0  0\\n    2.5229    2.0330   -1.2196 C   0  0  0  0  0  0  0  0  0  0  0  0\\n    3.6017    2.0739   -1.0042 H   0  0  0  0  0  0  0  0  0  0  0  0\\n    2.1230    3.0575   -1.2060 H   0  0  0  0  0  0  0  0  0  0  0  0\\n    2.3918    1.6158   -2.2284 H   0  0  0  0  0  0  0  0  0  0  0  0\\n    2.3499   -0.1418   -0.3670 O   0  0  0  0  0  0  0  0  0  0  0  0\\n    1.7719   -1.1960    0.3462 C   0  0  0  0  0  0  0  0  0  0  0  0\\n    0.3457   -1.5975   -0.1010 C   0  0  0  0  0  0  0  0  0  0  0  0\\n   -0.6648   -0.6369    0.5275 C   0  0  0  0  0  0  0  0  0  0  0  0\\n   -0.6791   -0.3685    1.7047 O   0  0  0  0  0  0  0  0  0  0  0  0\\n   -1.5541   -0.1557   -0.3430 O   0  0  0  0  0  0  0  0  0  0  0  0\\n   -2.5717    0.7364    0.1512 C   0  0  0  0  0  0  0  0  0  0  0  0\\n   -2.0032    2.1392    0.2889 C   0  0  0  0  0  0  0  0  0  0  0  0\\n   -1.1773    2.1518    1.0136 H   0  0  0  0  0  0  0  0  0  0  0  0\\n   -1.6351    2.5053   -0.6822 H   0  0  0  0  0  0  0  0  0  0  0  0\\n   -2.7805    2.8303    0.6471 H   0  0  0  0  0  0  0  0  0  0  0  0\\n   -3.7256    0.6409   -0.8281 C   0  0  0  0  0  0  0  0  0  0  0  0\\n   -4.5580    1.2806   -0.5008 H   0  0  0  0  0  0  0  0  0  0  0  0\\n   -4.0905   -0.3935   -0.8984 H   0  0  0  0  0  0  0  0  0  0  0  0\\n   -3.4104    0.9656   -1.8312 H   0  0  0  0  0  0  0  0  0  0  0  0\\n   -2.8768    0.3713    1.1445 H   0  0  0  0  0  0  0  0  0  0  0  0\\n    0.2545   -1.6542   -1.6253 C   0  0  0  0  0  0  0  0  0  0  0  0\\n    1.0193   -2.3426   -2.0164 H   0  0  0  0  0  0  0  0  0  0  0  0\\n   -0.7331   -2.0097   -1.9508 H   0  0  0  0  0  0  0  0  0  0  0  0\\n    0.4267   -0.6702   -2.0814 H   0  0  0  0  0  0  0  0  0  0  0  0\\n    0.0391   -2.9751    0.5134 C   0  0  0  0  0  0  0  0  0  0  0  0\\n    0.1399   -2.9473    1.6084 H   0  0  0  0  0  0  0  0  0  0  0  0\\n    0.7295   -3.7332    0.1133 H   0  0  0  0  0  0  0  0  0  0  0  0\\n   -0.9876   -3.2912    0.2730 H   0  0  0  0  0  0  0  0  0  0  0  0\\n    1.7576   -1.0063    1.4352 H   0  0  0  0  0  0  0  0  0  0  0  0\\n    2.4322   -2.0596    0.1700 H   0  0  0  0  0  0  0  0  0  0  0  0\\n    0.7374    1.1508   -0.4432 H   0  0  0  0  0  0  0  0  0  0  0  0\\n  1  3  1  0  0  0  0\\n  1  2  1  0  0  0  0\\n  1  4  1  0  0  0  0\\n  5  1  1  0  0  0  0\\n  6  8  1  0  0  0  0\\n  6  7  1  0  0  0  0\\n  6  5  1  0  0  0  0\\n  9  6  1  0  0  0  0\\n 10  5  1  0  0  0  0\\n 10 11  1  0  0  0  0\\n 11 34  1  0  0  0  0\\n 12 11  1  0  0  0  0\\n 12 30  1  0  0  0  0\\n 12 13  1  0  0  0  0\\n 13 14  2  0  0  0  0\\n 15 16  1  0  0  0  0\\n 15 13  1  0  0  0  0\\n 16 17  1  0  0  0  0\\n 16 25  1  0  0  0  0\\n 17 20  1  0  0  0  0\\n 17 18  1  0  0  0  0\\n 19 17  1  0  0  0  0\\n 21 22  1  0  0  0  0\\n 21 16  1  0  0  0  0\\n 23 21  1  0  0  0  0\\n 24 21  1  0  0  0  0\\n 26 12  1  0  0  0  0\\n 27 26  1  0  0  0  0\\n 28 26  1  0  0  0  0\\n 29 26  1  0  0  0  0\\n 30 31  1  0  0  0  0\\n 32 30  1  0  0  0  0\\n 33 30  1  0  0  0  0\\n 35 11  1  0  0  0  0\\n 36  5  1  0  0  0  0\\nM  END\\n$$$$\\n\",\"sdf\");\n",
       "\tviewer_1633367397168645.setStyle({\"stick\": {}});\n",
       "\tviewer_1633367397168645.zoomTo();\n",
       "viewer_1633367397168645.render();\n",
       "});\n",
       "</script>"
      ]
     },
     "metadata": {},
     "output_type": "display_data"
    },
    {
     "name": "stdout",
     "output_type": "stream",
     "text": [
      "062530477\n"
     ]
    },
    {
     "data": {
      "application/3dmoljs_load.v0": "<div id=\"3dmolviewer_16333673971694622\"  style=\"position: relative; width: 640px; height: 480px\">\n        <p id=\"3dmolwarning_16333673971694622\" style=\"background-color:#ffcccc;color:black\">You appear to be running in JupyterLab (or JavaScript failed to load for some other reason).  You need to install the 3dmol extension: <br>\n        <tt>jupyter labextension install jupyterlab_3dmol</tt></p>\n        </div>\n<script>\n\nvar loadScriptAsync = function(uri){\n  return new Promise((resolve, reject) => {\n    var tag = document.createElement('script');\n    tag.src = uri;\n    tag.async = true;\n    tag.onload = () => {\n      resolve();\n    };\n  var firstScriptTag = document.getElementsByTagName('script')[0];\n  firstScriptTag.parentNode.insertBefore(tag, firstScriptTag);\n});\n};\n\nif(typeof $3Dmolpromise === 'undefined') {\n$3Dmolpromise = null;\n  $3Dmolpromise = loadScriptAsync('https://3dmol.org/build/3Dmol.js');\n}\n\nvar viewer_16333673971694622 = null;\nvar warn = document.getElementById(\"3dmolwarning_16333673971694622\");\nif(warn) {\n    warn.parentNode.removeChild(warn);\n}\n$3Dmolpromise.then(function() {\nviewer_16333673971694622 = $3Dmol.createViewer($(\"#3dmolviewer_16333673971694622\"),{backgroundColor:\"white\"});\nviewer_16333673971694622.zoomTo();\n\tviewer_16333673971694622.addModel(\"-46.46425335\\n OpenBabel09032122183D\\n\\n 41 40  0  0  1  0  0  0  0  0999 V2000\\n   -3.1709   -2.5181   -1.4283 C   0  0  0  0  0  0  0  0  0  0  0  0\\n   -3.4262   -3.3176   -0.7355 H   0  0  0  0  0  0  0  0  0  0  0  0\\n   -2.2612   -1.4982   -0.7558 C   0  0  0  0  0  0  0  0  0  0  0  0\\n   -2.9195   -0.8678    0.4686 C   0  0  0  0  0  0  0  0  0  0  0  0\\n   -3.1377   -1.6387    1.2106 H   0  0  0  0  0  0  0  0  0  0  0  0\\n   -3.8588   -0.3974    0.1733 H   0  0  0  0  0  0  0  0  0  0  0  0\\n   -2.0273    0.1906    1.1087 C   0  0  0  0  0  0  0  0  0  0  0  0\\n   -1.9447    1.2993    0.2365 O   0  0  0  0  0  0  0  0  0  0  0  0\\n   -1.2012    2.3856    0.7354 C   0  0  0  0  0  0  0  0  0  0  0  0\\n    0.3095    2.1345    0.7827 C   0  0  0  0  0  0  0  0  0  0  0  0\\n    0.5157    1.3108    1.4664 H   0  0  0  0  0  0  0  0  0  0  0  0\\n    0.7994    3.0288    1.1706 H   0  0  0  0  0  0  0  0  0  0  0  0\\n    0.8687    1.7727   -0.5990 C   0  0  1  0  0  0  0  0  0  0  0  0\\n    1.3228    3.0130   -1.3619 C   0  0  0  0  0  0  0  0  0  0  0  0\\n    2.1508    3.4951   -0.8453 H   0  0  0  0  0  0  0  0  0  0  0  0\\n    0.5069    3.7263   -1.4473 H   0  0  0  0  0  0  0  0  0  0  0  0\\n    1.6522    2.7494   -2.3648 H   0  0  0  0  0  0  0  0  0  0  0  0\\n    2.0188    0.7687   -0.4625 C   0  0  0  0  0  0  0  0  0  0  0  0\\n    1.5299   -0.4512    0.1485 N   0  0  0  0  0  0  0  0  0  0  0  0\\n    0.8300   -0.8731   -0.4555 H   0  0  0  0  0  0  0  0  0  0  0  0\\n    2.5256   -1.4426    0.5122 C   0  0  0  0  0  0  0  0  0  0  0  0\\n    1.8440   -2.5040    1.3756 C   0  0  0  0  0  0  0  0  0  0  0  0\\n    2.5758   -3.2076    1.7635 H   0  0  0  0  0  0  0  0  0  0  0  0\\n    1.3325   -2.0318    2.2100 H   0  0  0  0  0  0  0  0  0  0  0  0\\n    1.1114   -3.0542    0.7884 H   0  0  0  0  0  0  0  0  0  0  0  0\\n    3.2235   -2.1016   -0.6858 C   0  0  0  0  0  0  0  0  0  0  0  0\\n    2.4904   -2.5958   -1.3219 H   0  0  0  0  0  0  0  0  0  0  0  0\\n    3.7557   -1.3614   -1.2788 H   0  0  0  0  0  0  0  0  0  0  0  0\\n    3.9400   -2.8435   -0.3427 H   0  0  0  0  0  0  0  0  0  0  0  0\\n    3.2795   -0.9238    1.1181 H   0  0  0  0  0  0  0  0  0  0  0  0\\n    2.4701    0.6067   -1.4565 H   0  0  0  0  0  0  0  0  0  0  0  0\\n    2.7927    1.1835    0.1917 H   0  0  0  0  0  0  0  0  0  0  0  0\\n    0.0654    1.2858   -1.1629 H   0  0  0  0  0  0  0  0  0  0  0  0\\n   -1.4225    3.2105    0.0522 H   0  0  0  0  0  0  0  0  0  0  0  0\\n   -1.5611    2.6579    1.7405 H   0  0  0  0  0  0  0  0  0  0  0  0\\n   -2.4541    0.5141    2.0725 H   0  0  0  0  0  0  0  0  0  0  0  0\\n   -1.0306   -0.2309    1.2962 H   0  0  0  0  0  0  0  0  0  0  0  0\\n   -2.0111   -0.7047   -1.4614 H   0  0  0  0  0  0  0  0  0  0  0  0\\n   -1.3327   -1.9860   -0.4483 H   0  0  0  0  0  0  0  0  0  0  0  0\\n   -4.0930   -2.0460   -1.7596 H   0  0  0  0  0  0  0  0  0  0  0  0\\n   -2.6811   -2.9580   -2.2943 H   0  0  0  0  0  0  0  0  0  0  0  0\\n  1  3  1  0  0  0  0\\n  1  2  1  0  0  0  0\\n  3 39  1  0  0  0  0\\n  3  4  1  0  0  0  0\\n  4  7  1  0  0  0  0\\n  4  5  1  0  0  0  0\\n  6  4  1  0  0  0  0\\n  7 37  1  0  0  0  0\\n  7 36  1  0  0  0  0\\n  8  9  1  0  0  0  0\\n  8  7  1  0  0  0  0\\n  9 10  1  0  0  0  0\\n  9 35  1  0  0  0  0\\n 10 12  1  0  0  0  0\\n 10 11  1  0  0  0  0\\n 13 33  1  6  0  0  0\\n 13 18  1  0  0  0  0\\n 13 10  1  0  0  0  0\\n 14 15  1  0  0  0  0\\n 14 13  1  0  0  0  0\\n 16 14  1  0  0  0  0\\n 17 14  1  0  0  0  0\\n 18 19  1  0  0  0  0\\n 18 32  1  0  0  0  0\\n 19 21  1  0  0  0  0\\n 20 19  1  0  0  0  0\\n 21 30  1  0  0  0  0\\n 21 22  1  0  0  0  0\\n 22 23  1  0  0  0  0\\n 22 24  1  0  0  0  0\\n 25 22  1  0  0  0  0\\n 26 29  1  0  0  0  0\\n 26 21  1  0  0  0  0\\n 27 26  1  0  0  0  0\\n 28 26  1  0  0  0  0\\n 31 18  1  0  0  0  0\\n 34  9  1  0  0  0  0\\n 38  3  1  0  0  0  0\\n 40  1  1  0  0  0  0\\n 41  1  1  0  0  0  0\\nM  END\\n$$$$\\n\",\"sdf\");\n\tviewer_16333673971694622.setStyle({\"stick\": {}});\n\tviewer_16333673971694622.zoomTo();\nviewer_16333673971694622.render();\n});\n</script>",
      "text/html": [
       "<div id=\"3dmolviewer_16333673971694622\"  style=\"position: relative; width: 640px; height: 480px\">\n",
       "        <p id=\"3dmolwarning_16333673971694622\" style=\"background-color:#ffcccc;color:black\">You appear to be running in JupyterLab (or JavaScript failed to load for some other reason).  You need to install the 3dmol extension: <br>\n",
       "        <tt>jupyter labextension install jupyterlab_3dmol</tt></p>\n",
       "        </div>\n",
       "<script>\n",
       "\n",
       "var loadScriptAsync = function(uri){\n",
       "  return new Promise((resolve, reject) => {\n",
       "    var tag = document.createElement('script');\n",
       "    tag.src = uri;\n",
       "    tag.async = true;\n",
       "    tag.onload = () => {\n",
       "      resolve();\n",
       "    };\n",
       "  var firstScriptTag = document.getElementsByTagName('script')[0];\n",
       "  firstScriptTag.parentNode.insertBefore(tag, firstScriptTag);\n",
       "});\n",
       "};\n",
       "\n",
       "if(typeof $3Dmolpromise === 'undefined') {\n",
       "$3Dmolpromise = null;\n",
       "  $3Dmolpromise = loadScriptAsync('https://3dmol.org/build/3Dmol.js');\n",
       "}\n",
       "\n",
       "var viewer_16333673971694622 = null;\n",
       "var warn = document.getElementById(\"3dmolwarning_16333673971694622\");\n",
       "if(warn) {\n",
       "    warn.parentNode.removeChild(warn);\n",
       "}\n",
       "$3Dmolpromise.then(function() {\n",
       "viewer_16333673971694622 = $3Dmol.createViewer($(\"#3dmolviewer_16333673971694622\"),{backgroundColor:\"white\"});\n",
       "viewer_16333673971694622.zoomTo();\n",
       "\tviewer_16333673971694622.addModel(\"-46.46425335\\n OpenBabel09032122183D\\n\\n 41 40  0  0  1  0  0  0  0  0999 V2000\\n   -3.1709   -2.5181   -1.4283 C   0  0  0  0  0  0  0  0  0  0  0  0\\n   -3.4262   -3.3176   -0.7355 H   0  0  0  0  0  0  0  0  0  0  0  0\\n   -2.2612   -1.4982   -0.7558 C   0  0  0  0  0  0  0  0  0  0  0  0\\n   -2.9195   -0.8678    0.4686 C   0  0  0  0  0  0  0  0  0  0  0  0\\n   -3.1377   -1.6387    1.2106 H   0  0  0  0  0  0  0  0  0  0  0  0\\n   -3.8588   -0.3974    0.1733 H   0  0  0  0  0  0  0  0  0  0  0  0\\n   -2.0273    0.1906    1.1087 C   0  0  0  0  0  0  0  0  0  0  0  0\\n   -1.9447    1.2993    0.2365 O   0  0  0  0  0  0  0  0  0  0  0  0\\n   -1.2012    2.3856    0.7354 C   0  0  0  0  0  0  0  0  0  0  0  0\\n    0.3095    2.1345    0.7827 C   0  0  0  0  0  0  0  0  0  0  0  0\\n    0.5157    1.3108    1.4664 H   0  0  0  0  0  0  0  0  0  0  0  0\\n    0.7994    3.0288    1.1706 H   0  0  0  0  0  0  0  0  0  0  0  0\\n    0.8687    1.7727   -0.5990 C   0  0  1  0  0  0  0  0  0  0  0  0\\n    1.3228    3.0130   -1.3619 C   0  0  0  0  0  0  0  0  0  0  0  0\\n    2.1508    3.4951   -0.8453 H   0  0  0  0  0  0  0  0  0  0  0  0\\n    0.5069    3.7263   -1.4473 H   0  0  0  0  0  0  0  0  0  0  0  0\\n    1.6522    2.7494   -2.3648 H   0  0  0  0  0  0  0  0  0  0  0  0\\n    2.0188    0.7687   -0.4625 C   0  0  0  0  0  0  0  0  0  0  0  0\\n    1.5299   -0.4512    0.1485 N   0  0  0  0  0  0  0  0  0  0  0  0\\n    0.8300   -0.8731   -0.4555 H   0  0  0  0  0  0  0  0  0  0  0  0\\n    2.5256   -1.4426    0.5122 C   0  0  0  0  0  0  0  0  0  0  0  0\\n    1.8440   -2.5040    1.3756 C   0  0  0  0  0  0  0  0  0  0  0  0\\n    2.5758   -3.2076    1.7635 H   0  0  0  0  0  0  0  0  0  0  0  0\\n    1.3325   -2.0318    2.2100 H   0  0  0  0  0  0  0  0  0  0  0  0\\n    1.1114   -3.0542    0.7884 H   0  0  0  0  0  0  0  0  0  0  0  0\\n    3.2235   -2.1016   -0.6858 C   0  0  0  0  0  0  0  0  0  0  0  0\\n    2.4904   -2.5958   -1.3219 H   0  0  0  0  0  0  0  0  0  0  0  0\\n    3.7557   -1.3614   -1.2788 H   0  0  0  0  0  0  0  0  0  0  0  0\\n    3.9400   -2.8435   -0.3427 H   0  0  0  0  0  0  0  0  0  0  0  0\\n    3.2795   -0.9238    1.1181 H   0  0  0  0  0  0  0  0  0  0  0  0\\n    2.4701    0.6067   -1.4565 H   0  0  0  0  0  0  0  0  0  0  0  0\\n    2.7927    1.1835    0.1917 H   0  0  0  0  0  0  0  0  0  0  0  0\\n    0.0654    1.2858   -1.1629 H   0  0  0  0  0  0  0  0  0  0  0  0\\n   -1.4225    3.2105    0.0522 H   0  0  0  0  0  0  0  0  0  0  0  0\\n   -1.5611    2.6579    1.7405 H   0  0  0  0  0  0  0  0  0  0  0  0\\n   -2.4541    0.5141    2.0725 H   0  0  0  0  0  0  0  0  0  0  0  0\\n   -1.0306   -0.2309    1.2962 H   0  0  0  0  0  0  0  0  0  0  0  0\\n   -2.0111   -0.7047   -1.4614 H   0  0  0  0  0  0  0  0  0  0  0  0\\n   -1.3327   -1.9860   -0.4483 H   0  0  0  0  0  0  0  0  0  0  0  0\\n   -4.0930   -2.0460   -1.7596 H   0  0  0  0  0  0  0  0  0  0  0  0\\n   -2.6811   -2.9580   -2.2943 H   0  0  0  0  0  0  0  0  0  0  0  0\\n  1  3  1  0  0  0  0\\n  1  2  1  0  0  0  0\\n  3 39  1  0  0  0  0\\n  3  4  1  0  0  0  0\\n  4  7  1  0  0  0  0\\n  4  5  1  0  0  0  0\\n  6  4  1  0  0  0  0\\n  7 37  1  0  0  0  0\\n  7 36  1  0  0  0  0\\n  8  9  1  0  0  0  0\\n  8  7  1  0  0  0  0\\n  9 10  1  0  0  0  0\\n  9 35  1  0  0  0  0\\n 10 12  1  0  0  0  0\\n 10 11  1  0  0  0  0\\n 13 33  1  6  0  0  0\\n 13 18  1  0  0  0  0\\n 13 10  1  0  0  0  0\\n 14 15  1  0  0  0  0\\n 14 13  1  0  0  0  0\\n 16 14  1  0  0  0  0\\n 17 14  1  0  0  0  0\\n 18 19  1  0  0  0  0\\n 18 32  1  0  0  0  0\\n 19 21  1  0  0  0  0\\n 20 19  1  0  0  0  0\\n 21 30  1  0  0  0  0\\n 21 22  1  0  0  0  0\\n 22 23  1  0  0  0  0\\n 22 24  1  0  0  0  0\\n 25 22  1  0  0  0  0\\n 26 29  1  0  0  0  0\\n 26 21  1  0  0  0  0\\n 27 26  1  0  0  0  0\\n 28 26  1  0  0  0  0\\n 31 18  1  0  0  0  0\\n 34  9  1  0  0  0  0\\n 38  3  1  0  0  0  0\\n 40  1  1  0  0  0  0\\n 41  1  1  0  0  0  0\\nM  END\\n$$$$\\n\",\"sdf\");\n",
       "\tviewer_16333673971694622.setStyle({\"stick\": {}});\n",
       "\tviewer_16333673971694622.zoomTo();\n",
       "viewer_16333673971694622.render();\n",
       "});\n",
       "</script>"
      ]
     },
     "metadata": {},
     "output_type": "display_data"
    },
    {
     "name": "stdout",
     "output_type": "stream",
     "text": [
      "062530477_dft\n"
     ]
    },
    {
     "data": {
      "application/3dmoljs_load.v0": "<div id=\"3dmolviewer_1633367397170176\"  style=\"position: relative; width: 640px; height: 480px\">\n        <p id=\"3dmolwarning_1633367397170176\" style=\"background-color:#ffcccc;color:black\">You appear to be running in JupyterLab (or JavaScript failed to load for some other reason).  You need to install the 3dmol extension: <br>\n        <tt>jupyter labextension install jupyterlab_3dmol</tt></p>\n        </div>\n<script>\n\nvar loadScriptAsync = function(uri){\n  return new Promise((resolve, reject) => {\n    var tag = document.createElement('script');\n    tag.src = uri;\n    tag.async = true;\n    tag.onload = () => {\n      resolve();\n    };\n  var firstScriptTag = document.getElementsByTagName('script')[0];\n  firstScriptTag.parentNode.insertBefore(tag, firstScriptTag);\n});\n};\n\nif(typeof $3Dmolpromise === 'undefined') {\n$3Dmolpromise = null;\n  $3Dmolpromise = loadScriptAsync('https://3dmol.org/build/3Dmol.js');\n}\n\nvar viewer_1633367397170176 = null;\nvar warn = document.getElementById(\"3dmolwarning_1633367397170176\");\nif(warn) {\n    warn.parentNode.removeChild(warn);\n}\n$3Dmolpromise.then(function() {\nviewer_1633367397170176 = $3Dmol.createViewer($(\"#3dmolviewer_1633367397170176\"),{backgroundColor:\"white\"});\nviewer_1633367397170176.zoomTo();\n\tviewer_1633367397170176.addModel(\"[062530477_dft.out: Geometry 12]\\n OpenBabel09282115313D\\n\\n 41 40  0  0  1  0  0  0  0  0999 V2000\\n   -3.2743   -2.4775   -1.3895 C   0  0  0  0  0  0  0  0  0  0  0  0\\n   -3.4167   -3.3392   -0.7170 H   0  0  0  0  0  0  0  0  0  0  0  0\\n   -2.3439   -1.4392   -0.7730 C   0  0  0  0  0  0  0  0  0  0  0  0\\n   -2.8552   -0.8812    0.5533 C   0  0  0  0  0  0  0  0  0  0  0  0\\n   -2.9524   -1.6961    1.2920 H   0  0  0  0  0  0  0  0  0  0  0  0\\n   -3.8649   -0.4571    0.4146 H   0  0  0  0  0  0  0  0  0  0  0  0\\n   -1.9558    0.1927    1.1368 C   0  0  0  0  0  0  0  0  0  0  0  0\\n   -1.9540    1.2999    0.2687 O   0  0  0  0  0  0  0  0  0  0  0  0\\n   -1.2142    2.4066    0.7146 C   0  0  0  0  0  0  0  0  0  0  0  0\\n    0.2926    2.1629    0.7438 C   0  0  0  0  0  0  0  0  0  0  0  0\\n    0.5160    1.3711    1.4759 H   0  0  0  0  0  0  0  0  0  0  0  0\\n    0.7893    3.0780    1.1122 H   0  0  0  0  0  0  0  0  0  0  0  0\\n    0.8673    1.7572   -0.6216 C   0  0  1  0  0  0  0  0  0  0  0  0\\n    1.3088    2.9675   -1.4414 C   0  0  0  0  0  0  0  0  0  0  0  0\\n    2.1604    3.4794   -0.9622 H   0  0  0  0  0  0  0  0  0  0  0  0\\n    0.4945    3.7023   -1.5409 H   0  0  0  0  0  0  0  0  0  0  0  0\\n    1.6196    2.6797   -2.4580 H   0  0  0  0  0  0  0  0  0  0  0  0\\n    2.0012    0.7397   -0.4651 C   0  0  0  0  0  0  0  0  0  0  0  0\\n    1.5005   -0.5075    0.0757 N   0  0  0  0  0  0  0  0  0  0  0  0\\n    0.8643   -0.9472   -0.5883 H   0  0  0  0  0  0  0  0  0  0  0  0\\n    2.4759   -1.4742    0.5561 C   0  0  0  0  0  0  0  0  0  0  0  0\\n    1.7346   -2.6266    1.2268 C   0  0  0  0  0  0  0  0  0  0  0  0\\n    2.4342   -3.3577    1.6587 H   0  0  0  0  0  0  0  0  0  0  0  0\\n    1.0783   -2.2519    2.0255 H   0  0  0  0  0  0  0  0  0  0  0  0\\n    1.1054   -3.1622    0.4949 H   0  0  0  0  0  0  0  0  0  0  0  0\\n    3.4442   -1.9826   -0.5183 C   0  0  0  0  0  0  0  0  0  0  0  0\\n    2.8946   -2.5046   -1.3203 H   0  0  0  0  0  0  0  0  0  0  0  0\\n    4.0089   -1.1584   -0.9799 H   0  0  0  0  0  0  0  0  0  0  0  0\\n    4.1752   -2.6901   -0.0968 H   0  0  0  0  0  0  0  0  0  0  0  0\\n    3.0702   -0.9543    1.3310 H   0  0  0  0  0  0  0  0  0  0  0  0\\n    2.5197    0.6234   -1.4411 H   0  0  0  0  0  0  0  0  0  0  0  0\\n    2.7575    1.1393    0.2368 H   0  0  0  0  0  0  0  0  0  0  0  0\\n    0.0591    1.2445   -1.1750 H   0  0  0  0  0  0  0  0  0  0  0  0\\n   -1.4562    3.2258    0.0180 H   0  0  0  0  0  0  0  0  0  0  0  0\\n   -1.5624    2.7203    1.7202 H   0  0  0  0  0  0  0  0  0  0  0  0\\n   -2.3209    0.4996    2.1387 H   0  0  0  0  0  0  0  0  0  0  0  0\\n   -0.9316   -0.2087    1.2637 H   0  0  0  0  0  0  0  0  0  0  0  0\\n   -2.1971   -0.5994   -1.4717 H   0  0  0  0  0  0  0  0  0  0  0  0\\n   -1.3453   -1.8845   -0.6109 H   0  0  0  0  0  0  0  0  0  0  0  0\\n   -4.2692   -2.0490   -1.5906 H   0  0  0  0  0  0  0  0  0  0  0  0\\n   -2.8803   -2.8613   -2.3425 H   0  0  0  0  0  0  0  0  0  0  0  0\\n  1  3  1  0  0  0  0\\n  1  2  1  0  0  0  0\\n  3 39  1  0  0  0  0\\n  3  4  1  0  0  0  0\\n  4  7  1  0  0  0  0\\n  4  5  1  0  0  0  0\\n  6  4  1  0  0  0  0\\n  7 37  1  0  0  0  0\\n  7 36  1  0  0  0  0\\n  8  9  1  0  0  0  0\\n  8  7  1  0  0  0  0\\n  9 10  1  0  0  0  0\\n  9 35  1  0  0  0  0\\n 10 12  1  0  0  0  0\\n 10 11  1  0  0  0  0\\n 13 33  1  6  0  0  0\\n 13 18  1  0  0  0  0\\n 13 10  1  0  0  0  0\\n 14 15  1  0  0  0  0\\n 14 13  1  0  0  0  0\\n 16 14  1  0  0  0  0\\n 17 14  1  0  0  0  0\\n 18 19  1  0  0  0  0\\n 18 32  1  0  0  0  0\\n 19 21  1  0  0  0  0\\n 20 19  1  0  0  0  0\\n 21 22  1  0  0  0  0\\n 21 30  1  0  0  0  0\\n 22 23  1  0  0  0  0\\n 22 24  1  0  0  0  0\\n 25 22  1  0  0  0  0\\n 26 29  1  0  0  0  0\\n 26 21  1  0  0  0  0\\n 27 26  1  0  0  0  0\\n 28 26  1  0  0  0  0\\n 31 18  1  0  0  0  0\\n 34  9  1  0  0  0  0\\n 38  3  1  0  0  0  0\\n 40  1  1  0  0  0  0\\n 41  1  1  0  0  0  0\\nM  END\\n$$$$\\n\",\"sdf\");\n\tviewer_1633367397170176.setStyle({\"stick\": {}});\n\tviewer_1633367397170176.zoomTo();\nviewer_1633367397170176.render();\n});\n</script>",
      "text/html": [
       "<div id=\"3dmolviewer_1633367397170176\"  style=\"position: relative; width: 640px; height: 480px\">\n",
       "        <p id=\"3dmolwarning_1633367397170176\" style=\"background-color:#ffcccc;color:black\">You appear to be running in JupyterLab (or JavaScript failed to load for some other reason).  You need to install the 3dmol extension: <br>\n",
       "        <tt>jupyter labextension install jupyterlab_3dmol</tt></p>\n",
       "        </div>\n",
       "<script>\n",
       "\n",
       "var loadScriptAsync = function(uri){\n",
       "  return new Promise((resolve, reject) => {\n",
       "    var tag = document.createElement('script');\n",
       "    tag.src = uri;\n",
       "    tag.async = true;\n",
       "    tag.onload = () => {\n",
       "      resolve();\n",
       "    };\n",
       "  var firstScriptTag = document.getElementsByTagName('script')[0];\n",
       "  firstScriptTag.parentNode.insertBefore(tag, firstScriptTag);\n",
       "});\n",
       "};\n",
       "\n",
       "if(typeof $3Dmolpromise === 'undefined') {\n",
       "$3Dmolpromise = null;\n",
       "  $3Dmolpromise = loadScriptAsync('https://3dmol.org/build/3Dmol.js');\n",
       "}\n",
       "\n",
       "var viewer_1633367397170176 = null;\n",
       "var warn = document.getElementById(\"3dmolwarning_1633367397170176\");\n",
       "if(warn) {\n",
       "    warn.parentNode.removeChild(warn);\n",
       "}\n",
       "$3Dmolpromise.then(function() {\n",
       "viewer_1633367397170176 = $3Dmol.createViewer($(\"#3dmolviewer_1633367397170176\"),{backgroundColor:\"white\"});\n",
       "viewer_1633367397170176.zoomTo();\n",
       "\tviewer_1633367397170176.addModel(\"[062530477_dft.out: Geometry 12]\\n OpenBabel09282115313D\\n\\n 41 40  0  0  1  0  0  0  0  0999 V2000\\n   -3.2743   -2.4775   -1.3895 C   0  0  0  0  0  0  0  0  0  0  0  0\\n   -3.4167   -3.3392   -0.7170 H   0  0  0  0  0  0  0  0  0  0  0  0\\n   -2.3439   -1.4392   -0.7730 C   0  0  0  0  0  0  0  0  0  0  0  0\\n   -2.8552   -0.8812    0.5533 C   0  0  0  0  0  0  0  0  0  0  0  0\\n   -2.9524   -1.6961    1.2920 H   0  0  0  0  0  0  0  0  0  0  0  0\\n   -3.8649   -0.4571    0.4146 H   0  0  0  0  0  0  0  0  0  0  0  0\\n   -1.9558    0.1927    1.1368 C   0  0  0  0  0  0  0  0  0  0  0  0\\n   -1.9540    1.2999    0.2687 O   0  0  0  0  0  0  0  0  0  0  0  0\\n   -1.2142    2.4066    0.7146 C   0  0  0  0  0  0  0  0  0  0  0  0\\n    0.2926    2.1629    0.7438 C   0  0  0  0  0  0  0  0  0  0  0  0\\n    0.5160    1.3711    1.4759 H   0  0  0  0  0  0  0  0  0  0  0  0\\n    0.7893    3.0780    1.1122 H   0  0  0  0  0  0  0  0  0  0  0  0\\n    0.8673    1.7572   -0.6216 C   0  0  1  0  0  0  0  0  0  0  0  0\\n    1.3088    2.9675   -1.4414 C   0  0  0  0  0  0  0  0  0  0  0  0\\n    2.1604    3.4794   -0.9622 H   0  0  0  0  0  0  0  0  0  0  0  0\\n    0.4945    3.7023   -1.5409 H   0  0  0  0  0  0  0  0  0  0  0  0\\n    1.6196    2.6797   -2.4580 H   0  0  0  0  0  0  0  0  0  0  0  0\\n    2.0012    0.7397   -0.4651 C   0  0  0  0  0  0  0  0  0  0  0  0\\n    1.5005   -0.5075    0.0757 N   0  0  0  0  0  0  0  0  0  0  0  0\\n    0.8643   -0.9472   -0.5883 H   0  0  0  0  0  0  0  0  0  0  0  0\\n    2.4759   -1.4742    0.5561 C   0  0  0  0  0  0  0  0  0  0  0  0\\n    1.7346   -2.6266    1.2268 C   0  0  0  0  0  0  0  0  0  0  0  0\\n    2.4342   -3.3577    1.6587 H   0  0  0  0  0  0  0  0  0  0  0  0\\n    1.0783   -2.2519    2.0255 H   0  0  0  0  0  0  0  0  0  0  0  0\\n    1.1054   -3.1622    0.4949 H   0  0  0  0  0  0  0  0  0  0  0  0\\n    3.4442   -1.9826   -0.5183 C   0  0  0  0  0  0  0  0  0  0  0  0\\n    2.8946   -2.5046   -1.3203 H   0  0  0  0  0  0  0  0  0  0  0  0\\n    4.0089   -1.1584   -0.9799 H   0  0  0  0  0  0  0  0  0  0  0  0\\n    4.1752   -2.6901   -0.0968 H   0  0  0  0  0  0  0  0  0  0  0  0\\n    3.0702   -0.9543    1.3310 H   0  0  0  0  0  0  0  0  0  0  0  0\\n    2.5197    0.6234   -1.4411 H   0  0  0  0  0  0  0  0  0  0  0  0\\n    2.7575    1.1393    0.2368 H   0  0  0  0  0  0  0  0  0  0  0  0\\n    0.0591    1.2445   -1.1750 H   0  0  0  0  0  0  0  0  0  0  0  0\\n   -1.4562    3.2258    0.0180 H   0  0  0  0  0  0  0  0  0  0  0  0\\n   -1.5624    2.7203    1.7202 H   0  0  0  0  0  0  0  0  0  0  0  0\\n   -2.3209    0.4996    2.1387 H   0  0  0  0  0  0  0  0  0  0  0  0\\n   -0.9316   -0.2087    1.2637 H   0  0  0  0  0  0  0  0  0  0  0  0\\n   -2.1971   -0.5994   -1.4717 H   0  0  0  0  0  0  0  0  0  0  0  0\\n   -1.3453   -1.8845   -0.6109 H   0  0  0  0  0  0  0  0  0  0  0  0\\n   -4.2692   -2.0490   -1.5906 H   0  0  0  0  0  0  0  0  0  0  0  0\\n   -2.8803   -2.8613   -2.3425 H   0  0  0  0  0  0  0  0  0  0  0  0\\n  1  3  1  0  0  0  0\\n  1  2  1  0  0  0  0\\n  3 39  1  0  0  0  0\\n  3  4  1  0  0  0  0\\n  4  7  1  0  0  0  0\\n  4  5  1  0  0  0  0\\n  6  4  1  0  0  0  0\\n  7 37  1  0  0  0  0\\n  7 36  1  0  0  0  0\\n  8  9  1  0  0  0  0\\n  8  7  1  0  0  0  0\\n  9 10  1  0  0  0  0\\n  9 35  1  0  0  0  0\\n 10 12  1  0  0  0  0\\n 10 11  1  0  0  0  0\\n 13 33  1  6  0  0  0\\n 13 18  1  0  0  0  0\\n 13 10  1  0  0  0  0\\n 14 15  1  0  0  0  0\\n 14 13  1  0  0  0  0\\n 16 14  1  0  0  0  0\\n 17 14  1  0  0  0  0\\n 18 19  1  0  0  0  0\\n 18 32  1  0  0  0  0\\n 19 21  1  0  0  0  0\\n 20 19  1  0  0  0  0\\n 21 22  1  0  0  0  0\\n 21 30  1  0  0  0  0\\n 22 23  1  0  0  0  0\\n 22 24  1  0  0  0  0\\n 25 22  1  0  0  0  0\\n 26 29  1  0  0  0  0\\n 26 21  1  0  0  0  0\\n 27 26  1  0  0  0  0\\n 28 26  1  0  0  0  0\\n 31 18  1  0  0  0  0\\n 34  9  1  0  0  0  0\\n 38  3  1  0  0  0  0\\n 40  1  1  0  0  0  0\\n 41  1  1  0  0  0  0\\nM  END\\n$$$$\\n\",\"sdf\");\n",
       "\tviewer_1633367397170176.setStyle({\"stick\": {}});\n",
       "\tviewer_1633367397170176.zoomTo();\n",
       "viewer_1633367397170176.render();\n",
       "});\n",
       "</script>"
      ]
     },
     "metadata": {},
     "output_type": "display_data"
    }
   ],
   "source": [
    "print('Torsion Pattern 10 [C:1][CH2:2]!@;-[O:3][CX4:4]')\n",
    "for molfile in sorted(glob.iglob('subpop/t10/*.sdf')):\n",
    "    print(molfile.split('/')[-1].split('.')[0])\n",
    "    with open(molfile) as f:\n",
    "        lines = f.read()\n",
    "    view = py3Dmol.view()\n",
    "    view.addModel(lines,'sdf')\n",
    "    view.setStyle({'stick':{}})\n",
    "    view.zoomTo()\n",
    "    view.show()"
   ]
  }
 ],
 "metadata": {
  "kernelspec": {
   "display_name": "noncov",
   "language": "python",
   "name": "noncov"
  },
  "language_info": {
   "codemirror_mode": {
    "name": "ipython",
    "version": 3
   },
   "file_extension": ".py",
   "mimetype": "text/x-python",
   "name": "python",
   "nbconvert_exporter": "python",
   "pygments_lexer": "ipython3",
   "version": "3.8.5"
  }
 },
 "nbformat": 4,
 "nbformat_minor": 5
}
