{
 "cells": [
  {
   "cell_type": "code",
   "execution_count": null,
   "id": "2fbe9e83-ca07-4e55-aeb7-e19195dc8d34",
   "metadata": {},
   "outputs": [],
   "source": [
    "import numpy as np\n",
    "import matplotlib.pyplot as plt\n",
    "\n",
    "%matplotlib inline\n",
    "%config InlineBackend.figure_format = 'retina'"
   ]
  },
  {
   "cell_type": "code",
   "execution_count": null,
   "id": "6027a044-72ef-4f5a-a320-a7938af13bda",
   "metadata": {},
   "outputs": [],
   "source": [
    "# read in the torsion patterns\n",
    "file = \"torsionPreferences_v2.in\"\n",
    "# file = \"torsionPreferences_smallrings.in\"\n",
    "with open(\"torsionPreferences_v2.in\") as torsions:\n",
    "    # skip the comments at the top\n",
    "    for _ in range(10):\n",
    "        next(torsions)\n",
    "    pattern = 0\n",
    "    for line in torsions:\n",
    "        pattern += 1\n",
    "        if \"//\" in line:\n",
    "            continue\n",
    "        chunk = line.split('\"')[1][0:-2]  # -2 drops the '/n' at the end\n",
    "        smarts = chunk.split()[0]\n",
    "        function = chunk.split()[1:] # parts of the cosine fit\n",
    "        #print(function)\n",
    "        \n",
    "        x = np.linspace(0, 360, 1800)\n",
    "        # build up the y potential in a loop\n",
    "        y = np.zeros_like(x)\n",
    "        for m in range(6):\n",
    "            s = float(function[m*2])\n",
    "            V = float(function[m*2+1])\n",
    "            if np.abs(s) < 0.1:\n",
    "                continue\n",
    "            y = y + V*(1 + s*(np.cos((m+1) * np.pi * x / 180.0)))\n",
    "        # now generate the Boltzmann probabilities\n",
    "        e_min = np.min(y)\n",
    "        kT = 0.593 # in kcal/mol\n",
    "        prob = np.exp(-y / kT)\n",
    "\n",
    "        plt.plot(x, prob)\n",
    "        plt.title(f\"Pattern {pattern} = {smarts}\")\n",
    "        plt.show()"
   ]
  },
  {
   "cell_type": "code",
   "execution_count": null,
   "id": "40bf3f41-d9cf-4700-adde-d7a728353d2a",
   "metadata": {},
   "outputs": [],
   "source": []
  }
 ],
 "metadata": {
  "kernelspec": {
   "display_name": "Python 3 (ipykernel)",
   "language": "python",
   "name": "python3"
  },
  "language_info": {
   "codemirror_mode": {
    "name": "ipython",
    "version": 3
   },
   "file_extension": ".py",
   "mimetype": "text/x-python",
   "name": "python",
   "nbconvert_exporter": "python",
   "pygments_lexer": "ipython3",
   "version": "3.9.7"
  }
 },
 "nbformat": 4,
 "nbformat_minor": 5
}
